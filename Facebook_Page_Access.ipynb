{
  "nbformat": 4,
  "nbformat_minor": 0,
  "metadata": {
    "colab": {
      "name": "Facebook User Access.ipynb",
      "provenance": [],
      "authorship_tag": "ABX9TyMJBN8VwPPOhGlbGDIi0rdp",
      "include_colab_link": true
    },
    "kernelspec": {
      "name": "python3",
      "display_name": "Python 3"
    }
  },
  "cells": [
    {
      "cell_type": "markdown",
      "metadata": {
        "id": "view-in-github",
        "colab_type": "text"
      },
      "source": [
        "<a href=\"https://colab.research.google.com/github/krmonline/Sentiment-Analysis-in-Social-Networks/blob/master/Facebook_Page_Access.ipynb\" target=\"_parent\"><img src=\"https://colab.research.google.com/assets/colab-badge.svg\" alt=\"Open In Colab\"/></a>"
      ]
    },
    {
      "cell_type": "code",
      "metadata": {
        "id": "whaco7gkYI1x",
        "colab_type": "code",
        "outputId": "adbf5eae-a06a-4705-fecc-8a18a561c976",
        "colab": {
          "base_uri": "https://localhost:8080/",
          "height": 119
        }
      },
      "source": [
        "!pip install facebook-sdk"
      ],
      "execution_count": 0,
      "outputs": [
        {
          "output_type": "stream",
          "text": [
            "Requirement already satisfied: facebook-sdk in /usr/local/lib/python3.6/dist-packages (3.1.0)\n",
            "Requirement already satisfied: requests in /usr/local/lib/python3.6/dist-packages (from facebook-sdk) (2.23.0)\n",
            "Requirement already satisfied: idna<3,>=2.5 in /usr/local/lib/python3.6/dist-packages (from requests->facebook-sdk) (2.9)\n",
            "Requirement already satisfied: chardet<4,>=3.0.2 in /usr/local/lib/python3.6/dist-packages (from requests->facebook-sdk) (3.0.4)\n",
            "Requirement already satisfied: certifi>=2017.4.17 in /usr/local/lib/python3.6/dist-packages (from requests->facebook-sdk) (2020.4.5.1)\n",
            "Requirement already satisfied: urllib3!=1.25.0,!=1.25.1,<1.26,>=1.21.1 in /usr/local/lib/python3.6/dist-packages (from requests->facebook-sdk) (1.24.3)\n"
          ],
          "name": "stdout"
        }
      ]
    },
    {
      "cell_type": "code",
      "metadata": {
        "id": "LTpg_5pnY7M4",
        "colab_type": "code",
        "colab": {}
      },
      "source": [
        "import facebook\n",
        "import json\n",
        "import pandas as pd"
      ],
      "execution_count": 0,
      "outputs": []
    },
    {
      "cell_type": "code",
      "metadata": {
        "id": "GfAvofWTYUBl",
        "colab_type": "code",
        "colab": {}
      },
      "source": [
        "graph = facebook.GraphAPI(access_token=\"EAAHqDpf4q4ABAJTIu4ZBy9rHnJZCPQSTmCZANbqW8E3UVV2svK0lkfItoy3If6FZAN4wdw12j4mAeSeFBHw7ZADjhxLS3ZAJ7wzSt7RDu6QkaXKkeILeECU7k1iRUnZAjqbVGUgabJXGeSHhs9ED3iTpRdyik5Xs3gEqRI0fUHfcBW0ZCVyVduuPozNIFO0uXCeCHHLBpePsgQZDZD\")"
      ],
      "execution_count": 0,
      "outputs": []
    },
    {
      "cell_type": "code",
      "metadata": {
        "id": "yDwmGrq3ZIcm",
        "colab_type": "code",
        "outputId": "13805236-28ab-4b18-dc9c-ac5564640c38",
        "colab": {
          "base_uri": "https://localhost:8080/",
          "height": 436
        }
      },
      "source": [
        "loop_count = 0\n",
        "df_comments = pd.DataFrame(columns=['id','from','message'])\n",
        "df = pd.DataFrame(columns=['id','created_time','message','comments'])\n",
        "js = graph.get_object(id='me/posts',fields='message,story,created_time,id,comments')\n",
        "while('paging' in js):\n",
        "  loop_count = loop_count+1\n",
        "  print(loop_count,end=\" \")\n",
        "  if 'next' in js['paging']:\n",
        "    arr_page = {}\n",
        "    for kv in js['paging']['next'].split(\"?\")[1].split(\"&\"):\n",
        "      k,v = kv.split(\"=\")\n",
        "      arr_page[k] = v\n",
        "    until = arr_page['until']\n",
        "    js = graph.get_object(id='me/posts',fields='message,story,created_time,id,comments',until=until)\n",
        "    dftmp = pd.DataFrame(js['data'],columns=['id','created_time','message','comments'])\n",
        "\n",
        "    df = pd.concat([df,dftmp],ignore_index=True)\n",
        "df"
      ],
      "execution_count": 0,
      "outputs": [
        {
          "output_type": "stream",
          "text": [
            "1 2 3 4 5 6 7 8 9 10 11 12 13 14 15 16 17 18 19 20 21 22 "
          ],
          "name": "stdout"
        },
        {
          "output_type": "execute_result",
          "data": {
            "text/html": [
              "<div>\n",
              "<style scoped>\n",
              "    .dataframe tbody tr th:only-of-type {\n",
              "        vertical-align: middle;\n",
              "    }\n",
              "\n",
              "    .dataframe tbody tr th {\n",
              "        vertical-align: top;\n",
              "    }\n",
              "\n",
              "    .dataframe thead th {\n",
              "        text-align: right;\n",
              "    }\n",
              "</style>\n",
              "<table border=\"1\" class=\"dataframe\">\n",
              "  <thead>\n",
              "    <tr style=\"text-align: right;\">\n",
              "      <th></th>\n",
              "      <th>id</th>\n",
              "      <th>created_time</th>\n",
              "      <th>message</th>\n",
              "      <th>comments</th>\n",
              "    </tr>\n",
              "  </thead>\n",
              "  <tbody>\n",
              "    <tr>\n",
              "      <th>0</th>\n",
              "      <td>3249440901753063_3058965534133935</td>\n",
              "      <td>2020-03-04T04:30:08+0000</td>\n",
              "      <td>NaN</td>\n",
              "      <td>NaN</td>\n",
              "    </tr>\n",
              "    <tr>\n",
              "      <th>1</th>\n",
              "      <td>3249440901753063_3057913487572473</td>\n",
              "      <td>2020-03-03T16:59:10+0000</td>\n",
              "      <td>โตมากับฮิโนโทริ</td>\n",
              "      <td>NaN</td>\n",
              "    </tr>\n",
              "    <tr>\n",
              "      <th>2</th>\n",
              "      <td>3249440901753063_3057789764251512</td>\n",
              "      <td>2020-03-03T15:56:50+0000</td>\n",
              "      <td>140</td>\n",
              "      <td>NaN</td>\n",
              "    </tr>\n",
              "    <tr>\n",
              "      <th>3</th>\n",
              "      <td>3249440901753063_3051348831562272</td>\n",
              "      <td>2020-02-29T19:31:05+0000</td>\n",
              "      <td>NaN</td>\n",
              "      <td>NaN</td>\n",
              "    </tr>\n",
              "    <tr>\n",
              "      <th>4</th>\n",
              "      <td>3249440901753063_3049868871710268</td>\n",
              "      <td>2020-02-29T04:58:35+0000</td>\n",
              "      <td>NaN</td>\n",
              "      <td>NaN</td>\n",
              "    </tr>\n",
              "    <tr>\n",
              "      <th>...</th>\n",
              "      <td>...</td>\n",
              "      <td>...</td>\n",
              "      <td>...</td>\n",
              "      <td>...</td>\n",
              "    </tr>\n",
              "    <tr>\n",
              "      <th>500</th>\n",
              "      <td>3249440901753063_224727733089</td>\n",
              "      <td>2010-01-02T12:58:12+0000</td>\n",
              "      <td>อีก 120 กม ถึงสีคิ้ว วิ่งที่ 85 km/hr</td>\n",
              "      <td>NaN</td>\n",
              "    </tr>\n",
              "    <tr>\n",
              "      <th>501</th>\n",
              "      <td>3249440901753063_396722645127</td>\n",
              "      <td>2010-01-02T12:26:24+0000</td>\n",
              "      <td>ถึง เมืองพล แล้ว</td>\n",
              "      <td>NaN</td>\n",
              "    </tr>\n",
              "    <tr>\n",
              "      <th>502</th>\n",
              "      <td>3249440901753063_233413932730</td>\n",
              "      <td>2010-01-02T12:14:19+0000</td>\n",
              "      <td>ตอนนี้อยู่บ้านไผ่</td>\n",
              "      <td>NaN</td>\n",
              "    </tr>\n",
              "    <tr>\n",
              "      <th>503</th>\n",
              "      <td>3249440901753063_100112503352601</td>\n",
              "      <td>2010-01-01T09:25:35+0000</td>\n",
              "      <td>NaN</td>\n",
              "      <td>NaN</td>\n",
              "    </tr>\n",
              "    <tr>\n",
              "      <th>504</th>\n",
              "      <td>3249440901753063_100107980019720</td>\n",
              "      <td>2010-01-01T04:51:12+0000</td>\n",
              "      <td>NaN</td>\n",
              "      <td>NaN</td>\n",
              "    </tr>\n",
              "  </tbody>\n",
              "</table>\n",
              "<p>505 rows × 4 columns</p>\n",
              "</div>"
            ],
            "text/plain": [
              "                                    id  ... comments\n",
              "0    3249440901753063_3058965534133935  ...      NaN\n",
              "1    3249440901753063_3057913487572473  ...      NaN\n",
              "2    3249440901753063_3057789764251512  ...      NaN\n",
              "3    3249440901753063_3051348831562272  ...      NaN\n",
              "4    3249440901753063_3049868871710268  ...      NaN\n",
              "..                                 ...  ...      ...\n",
              "500      3249440901753063_224727733089  ...      NaN\n",
              "501      3249440901753063_396722645127  ...      NaN\n",
              "502      3249440901753063_233413932730  ...      NaN\n",
              "503   3249440901753063_100112503352601  ...      NaN\n",
              "504   3249440901753063_100107980019720  ...      NaN\n",
              "\n",
              "[505 rows x 4 columns]"
            ]
          },
          "metadata": {
            "tags": []
          },
          "execution_count": 134
        }
      ]
    },
    {
      "cell_type": "code",
      "metadata": {
        "id": "nqerHRxjB3HB",
        "colab_type": "code",
        "colab": {}
      },
      "source": [
        "def getMIDfromDF(x):\n",
        "  return x.split('_')[1]"
      ],
      "execution_count": 0,
      "outputs": []
    },
    {
      "cell_type": "code",
      "metadata": {
        "id": "HG1qZE_kBwLk",
        "colab_type": "code",
        "colab": {}
      },
      "source": [
        "df['mid'] = df.id.apply(getMIDfromDF)"
      ],
      "execution_count": 0,
      "outputs": []
    },
    {
      "cell_type": "code",
      "metadata": {
        "id": "hc_uoz2BCN0Q",
        "colab_type": "code",
        "outputId": "8362c587-5a95-4a46-b569-fca86cbcc8ea",
        "colab": {
          "base_uri": "https://localhost:8080/",
          "height": 419
        }
      },
      "source": [
        "df"
      ],
      "execution_count": 0,
      "outputs": [
        {
          "output_type": "execute_result",
          "data": {
            "text/html": [
              "<div>\n",
              "<style scoped>\n",
              "    .dataframe tbody tr th:only-of-type {\n",
              "        vertical-align: middle;\n",
              "    }\n",
              "\n",
              "    .dataframe tbody tr th {\n",
              "        vertical-align: top;\n",
              "    }\n",
              "\n",
              "    .dataframe thead th {\n",
              "        text-align: right;\n",
              "    }\n",
              "</style>\n",
              "<table border=\"1\" class=\"dataframe\">\n",
              "  <thead>\n",
              "    <tr style=\"text-align: right;\">\n",
              "      <th></th>\n",
              "      <th>id</th>\n",
              "      <th>created_time</th>\n",
              "      <th>message</th>\n",
              "      <th>comments</th>\n",
              "      <th>mid</th>\n",
              "    </tr>\n",
              "  </thead>\n",
              "  <tbody>\n",
              "    <tr>\n",
              "      <th>0</th>\n",
              "      <td>3249440901753063_3058965534133935</td>\n",
              "      <td>2020-03-04T04:30:08+0000</td>\n",
              "      <td>NaN</td>\n",
              "      <td>NaN</td>\n",
              "      <td>3058965534133935</td>\n",
              "    </tr>\n",
              "    <tr>\n",
              "      <th>1</th>\n",
              "      <td>3249440901753063_3057913487572473</td>\n",
              "      <td>2020-03-03T16:59:10+0000</td>\n",
              "      <td>โตมากับฮิโนโทริ</td>\n",
              "      <td>NaN</td>\n",
              "      <td>3057913487572473</td>\n",
              "    </tr>\n",
              "    <tr>\n",
              "      <th>2</th>\n",
              "      <td>3249440901753063_3057789764251512</td>\n",
              "      <td>2020-03-03T15:56:50+0000</td>\n",
              "      <td>140</td>\n",
              "      <td>NaN</td>\n",
              "      <td>3057789764251512</td>\n",
              "    </tr>\n",
              "    <tr>\n",
              "      <th>3</th>\n",
              "      <td>3249440901753063_3051348831562272</td>\n",
              "      <td>2020-02-29T19:31:05+0000</td>\n",
              "      <td>NaN</td>\n",
              "      <td>NaN</td>\n",
              "      <td>3051348831562272</td>\n",
              "    </tr>\n",
              "    <tr>\n",
              "      <th>4</th>\n",
              "      <td>3249440901753063_3049868871710268</td>\n",
              "      <td>2020-02-29T04:58:35+0000</td>\n",
              "      <td>NaN</td>\n",
              "      <td>NaN</td>\n",
              "      <td>3049868871710268</td>\n",
              "    </tr>\n",
              "    <tr>\n",
              "      <th>...</th>\n",
              "      <td>...</td>\n",
              "      <td>...</td>\n",
              "      <td>...</td>\n",
              "      <td>...</td>\n",
              "      <td>...</td>\n",
              "    </tr>\n",
              "    <tr>\n",
              "      <th>500</th>\n",
              "      <td>3249440901753063_224727733089</td>\n",
              "      <td>2010-01-02T12:58:12+0000</td>\n",
              "      <td>อีก 120 กม ถึงสีคิ้ว วิ่งที่ 85 km/hr</td>\n",
              "      <td>NaN</td>\n",
              "      <td>224727733089</td>\n",
              "    </tr>\n",
              "    <tr>\n",
              "      <th>501</th>\n",
              "      <td>3249440901753063_396722645127</td>\n",
              "      <td>2010-01-02T12:26:24+0000</td>\n",
              "      <td>ถึง เมืองพล แล้ว</td>\n",
              "      <td>NaN</td>\n",
              "      <td>396722645127</td>\n",
              "    </tr>\n",
              "    <tr>\n",
              "      <th>502</th>\n",
              "      <td>3249440901753063_233413932730</td>\n",
              "      <td>2010-01-02T12:14:19+0000</td>\n",
              "      <td>ตอนนี้อยู่บ้านไผ่</td>\n",
              "      <td>NaN</td>\n",
              "      <td>233413932730</td>\n",
              "    </tr>\n",
              "    <tr>\n",
              "      <th>503</th>\n",
              "      <td>3249440901753063_100112503352601</td>\n",
              "      <td>2010-01-01T09:25:35+0000</td>\n",
              "      <td>NaN</td>\n",
              "      <td>NaN</td>\n",
              "      <td>100112503352601</td>\n",
              "    </tr>\n",
              "    <tr>\n",
              "      <th>504</th>\n",
              "      <td>3249440901753063_100107980019720</td>\n",
              "      <td>2010-01-01T04:51:12+0000</td>\n",
              "      <td>NaN</td>\n",
              "      <td>NaN</td>\n",
              "      <td>100107980019720</td>\n",
              "    </tr>\n",
              "  </tbody>\n",
              "</table>\n",
              "<p>505 rows × 5 columns</p>\n",
              "</div>"
            ],
            "text/plain": [
              "                                    id  ...               mid\n",
              "0    3249440901753063_3058965534133935  ...  3058965534133935\n",
              "1    3249440901753063_3057913487572473  ...  3057913487572473\n",
              "2    3249440901753063_3057789764251512  ...  3057789764251512\n",
              "3    3249440901753063_3051348831562272  ...  3051348831562272\n",
              "4    3249440901753063_3049868871710268  ...  3049868871710268\n",
              "..                                 ...  ...               ...\n",
              "500      3249440901753063_224727733089  ...      224727733089\n",
              "501      3249440901753063_396722645127  ...      396722645127\n",
              "502      3249440901753063_233413932730  ...      233413932730\n",
              "503   3249440901753063_100112503352601  ...   100112503352601\n",
              "504   3249440901753063_100107980019720  ...   100107980019720\n",
              "\n",
              "[505 rows x 5 columns]"
            ]
          },
          "metadata": {
            "tags": []
          },
          "execution_count": 137
        }
      ]
    },
    {
      "cell_type": "code",
      "metadata": {
        "id": "_rIKA4hOanx6",
        "colab_type": "code",
        "colab": {}
      },
      "source": [
        "if len(df[df.comments.isna() == False]) > 0:\n",
        "  for i in  df[df.comments.isna() == False].comments.values:\n",
        "    text = i['data']\n",
        "    dftmp_comments = pd.DataFrame(i['data'],columns=['id','from','message'])\n",
        "    df_comments = pd.concat([df_comments,dftmp_comments],ignore_index=True)"
      ],
      "execution_count": 0,
      "outputs": []
    },
    {
      "cell_type": "code",
      "metadata": {
        "id": "48uInzQuycf7",
        "colab_type": "code",
        "outputId": "9017220a-51a0-44c6-83eb-6ff46f1d1d02",
        "colab": {
          "base_uri": "https://localhost:8080/",
          "height": 419
        }
      },
      "source": [
        "df_comments"
      ],
      "execution_count": 0,
      "outputs": [
        {
          "output_type": "execute_result",
          "data": {
            "text/html": [
              "<div>\n",
              "<style scoped>\n",
              "    .dataframe tbody tr th:only-of-type {\n",
              "        vertical-align: middle;\n",
              "    }\n",
              "\n",
              "    .dataframe tbody tr th {\n",
              "        vertical-align: top;\n",
              "    }\n",
              "\n",
              "    .dataframe thead th {\n",
              "        text-align: right;\n",
              "    }\n",
              "</style>\n",
              "<table border=\"1\" class=\"dataframe\">\n",
              "  <thead>\n",
              "    <tr style=\"text-align: right;\">\n",
              "      <th></th>\n",
              "      <th>id</th>\n",
              "      <th>from</th>\n",
              "      <th>message</th>\n",
              "    </tr>\n",
              "  </thead>\n",
              "  <tbody>\n",
              "    <tr>\n",
              "      <th>0</th>\n",
              "      <td>2164745816889249_2164799203550577</td>\n",
              "      <td>{'name': 'Chakrit Phain', 'id': '3249440901753...</td>\n",
              "      <td>555 ครับพี่</td>\n",
              "    </tr>\n",
              "    <tr>\n",
              "      <th>1</th>\n",
              "      <td>2164745816889249_2165217246842106</td>\n",
              "      <td>{'name': 'Chakrit Phain', 'id': '3249440901753...</td>\n",
              "      <td>อืออ</td>\n",
              "    </tr>\n",
              "    <tr>\n",
              "      <th>2</th>\n",
              "      <td>2164504823580015_2167603746603456</td>\n",
              "      <td>{'name': 'Chakrit Phain', 'id': '3249440901753...</td>\n",
              "      <td>โหหห ขอบคุณครับ Kankawin Kowsrihawat</td>\n",
              "    </tr>\n",
              "    <tr>\n",
              "      <th>3</th>\n",
              "      <td>2057217860975379_2057224364308062</td>\n",
              "      <td>{'name': 'Chakrit Phain', 'id': '3249440901753...</td>\n",
              "      <td>รายยย</td>\n",
              "    </tr>\n",
              "    <tr>\n",
              "      <th>4</th>\n",
              "      <td>2057217860975379_2057226877641144</td>\n",
              "      <td>{'name': 'Chakrit Phain', 'id': '3249440901753...</td>\n",
              "      <td>ได้เรยครับบ 😆</td>\n",
              "    </tr>\n",
              "    <tr>\n",
              "      <th>...</th>\n",
              "      <td>...</td>\n",
              "      <td>...</td>\n",
              "      <td>...</td>\n",
              "    </tr>\n",
              "    <tr>\n",
              "      <th>209</th>\n",
              "      <td>171162409580943_267827</td>\n",
              "      <td>{'name': 'Chakrit Phain', 'id': '3249440901753...</td>\n",
              "      <td>ฮิ</td>\n",
              "    </tr>\n",
              "    <tr>\n",
              "      <th>210</th>\n",
              "      <td>170958396268011_267835</td>\n",
              "      <td>{'name': 'Chakrit Phain', 'id': '3249440901753...</td>\n",
              "      <td>ชอบภาพนี้มากครับ</td>\n",
              "    </tr>\n",
              "    <tr>\n",
              "      <th>211</th>\n",
              "      <td>170958396268011_292639</td>\n",
              "      <td>{'name': 'Chakrit Phain', 'id': '3249440901753...</td>\n",
              "      <td>แท็ก ภาพพี่อารี ฮิฮิ</td>\n",
              "    </tr>\n",
              "    <tr>\n",
              "      <th>212</th>\n",
              "      <td>170942186269632_271772</td>\n",
              "      <td>{'name': 'Chakrit Phain', 'id': '3249440901753...</td>\n",
              "      <td>ยังไม่แตะเน้อ</td>\n",
              "    </tr>\n",
              "    <tr>\n",
              "      <th>213</th>\n",
              "      <td>427392235645_16917986</td>\n",
              "      <td>{'name': 'Chakrit Phain', 'id': '3249440901753...</td>\n",
              "      <td>เพลงจ้า ของวง jinx ชอบมานานแล้วไม่ได้ บ่นอะไรเน้อ</td>\n",
              "    </tr>\n",
              "  </tbody>\n",
              "</table>\n",
              "<p>214 rows × 3 columns</p>\n",
              "</div>"
            ],
            "text/plain": [
              "                                    id  ...                                            message\n",
              "0    2164745816889249_2164799203550577  ...                                        555 ครับพี่\n",
              "1    2164745816889249_2165217246842106  ...                                               อืออ\n",
              "2    2164504823580015_2167603746603456  ...               โหหห ขอบคุณครับ Kankawin Kowsrihawat\n",
              "3    2057217860975379_2057224364308062  ...                                              รายยย\n",
              "4    2057217860975379_2057226877641144  ...                                      ได้เรยครับบ 😆\n",
              "..                                 ...  ...                                                ...\n",
              "209             171162409580943_267827  ...                                                 ฮิ\n",
              "210             170958396268011_267835  ...                                   ชอบภาพนี้มากครับ\n",
              "211             170958396268011_292639  ...                               แท็ก ภาพพี่อารี ฮิฮิ\n",
              "212             170942186269632_271772  ...                                      ยังไม่แตะเน้อ\n",
              "213              427392235645_16917986  ...  เพลงจ้า ของวง jinx ชอบมานานแล้วไม่ได้ บ่นอะไรเน้อ\n",
              "\n",
              "[214 rows x 3 columns]"
            ]
          },
          "metadata": {
            "tags": []
          },
          "execution_count": 139
        }
      ]
    },
    {
      "cell_type": "code",
      "metadata": {
        "id": "iBRS4ki__djD",
        "colab_type": "code",
        "colab": {}
      },
      "source": [
        "def getMID(x):\n",
        "  return x.split('_')[0]\n",
        "def getCID(x):\n",
        "  return x.split('_')[1]\n",
        "def getUserComment(x):\n",
        "  return x['name']"
      ],
      "execution_count": 0,
      "outputs": []
    },
    {
      "cell_type": "code",
      "metadata": {
        "id": "raOsNsxE_1tn",
        "colab_type": "code",
        "colab": {}
      },
      "source": [
        "df_comments['mid'] = df_comments.id.apply(getMID)\n",
        "df_comments['cid'] = df_comments.id.apply(getCID)\n",
        "df_comments['cname'] = df_comments['from'].apply(getUserComment)"
      ],
      "execution_count": 0,
      "outputs": []
    },
    {
      "cell_type": "code",
      "metadata": {
        "id": "aW6difdYAHuG",
        "colab_type": "code",
        "outputId": "7fddbb24-d5de-49e0-92fe-27a7ca02493f",
        "colab": {
          "base_uri": "https://localhost:8080/",
          "height": 204
        }
      },
      "source": [
        "df_comments.head()"
      ],
      "execution_count": 0,
      "outputs": [
        {
          "output_type": "execute_result",
          "data": {
            "text/html": [
              "<div>\n",
              "<style scoped>\n",
              "    .dataframe tbody tr th:only-of-type {\n",
              "        vertical-align: middle;\n",
              "    }\n",
              "\n",
              "    .dataframe tbody tr th {\n",
              "        vertical-align: top;\n",
              "    }\n",
              "\n",
              "    .dataframe thead th {\n",
              "        text-align: right;\n",
              "    }\n",
              "</style>\n",
              "<table border=\"1\" class=\"dataframe\">\n",
              "  <thead>\n",
              "    <tr style=\"text-align: right;\">\n",
              "      <th></th>\n",
              "      <th>id</th>\n",
              "      <th>from</th>\n",
              "      <th>message</th>\n",
              "      <th>mid</th>\n",
              "      <th>cid</th>\n",
              "      <th>cname</th>\n",
              "    </tr>\n",
              "  </thead>\n",
              "  <tbody>\n",
              "    <tr>\n",
              "      <th>0</th>\n",
              "      <td>2164745816889249_2164799203550577</td>\n",
              "      <td>{'name': 'Chakrit Phain', 'id': '3249440901753...</td>\n",
              "      <td>555 ครับพี่</td>\n",
              "      <td>2164745816889249</td>\n",
              "      <td>2164799203550577</td>\n",
              "      <td>Chakrit Phain</td>\n",
              "    </tr>\n",
              "    <tr>\n",
              "      <th>1</th>\n",
              "      <td>2164745816889249_2165217246842106</td>\n",
              "      <td>{'name': 'Chakrit Phain', 'id': '3249440901753...</td>\n",
              "      <td>อืออ</td>\n",
              "      <td>2164745816889249</td>\n",
              "      <td>2165217246842106</td>\n",
              "      <td>Chakrit Phain</td>\n",
              "    </tr>\n",
              "    <tr>\n",
              "      <th>2</th>\n",
              "      <td>2164504823580015_2167603746603456</td>\n",
              "      <td>{'name': 'Chakrit Phain', 'id': '3249440901753...</td>\n",
              "      <td>โหหห ขอบคุณครับ Kankawin Kowsrihawat</td>\n",
              "      <td>2164504823580015</td>\n",
              "      <td>2167603746603456</td>\n",
              "      <td>Chakrit Phain</td>\n",
              "    </tr>\n",
              "    <tr>\n",
              "      <th>3</th>\n",
              "      <td>2057217860975379_2057224364308062</td>\n",
              "      <td>{'name': 'Chakrit Phain', 'id': '3249440901753...</td>\n",
              "      <td>รายยย</td>\n",
              "      <td>2057217860975379</td>\n",
              "      <td>2057224364308062</td>\n",
              "      <td>Chakrit Phain</td>\n",
              "    </tr>\n",
              "    <tr>\n",
              "      <th>4</th>\n",
              "      <td>2057217860975379_2057226877641144</td>\n",
              "      <td>{'name': 'Chakrit Phain', 'id': '3249440901753...</td>\n",
              "      <td>ได้เรยครับบ 😆</td>\n",
              "      <td>2057217860975379</td>\n",
              "      <td>2057226877641144</td>\n",
              "      <td>Chakrit Phain</td>\n",
              "    </tr>\n",
              "  </tbody>\n",
              "</table>\n",
              "</div>"
            ],
            "text/plain": [
              "                                  id  ...          cname\n",
              "0  2164745816889249_2164799203550577  ...  Chakrit Phain\n",
              "1  2164745816889249_2165217246842106  ...  Chakrit Phain\n",
              "2  2164504823580015_2167603746603456  ...  Chakrit Phain\n",
              "3  2057217860975379_2057224364308062  ...  Chakrit Phain\n",
              "4  2057217860975379_2057226877641144  ...  Chakrit Phain\n",
              "\n",
              "[5 rows x 6 columns]"
            ]
          },
          "metadata": {
            "tags": []
          },
          "execution_count": 142
        }
      ]
    },
    {
      "cell_type": "code",
      "metadata": {
        "id": "VCTLyDg3AciA",
        "colab_type": "code",
        "colab": {}
      },
      "source": [
        "df_result = pd.merge(df_comments,\n",
        "                 df[['id','created_time','message','mid']],\n",
        "                 on='mid', \n",
        "                 how='left')"
      ],
      "execution_count": 0,
      "outputs": []
    },
    {
      "cell_type": "code",
      "metadata": {
        "id": "iuIr2wZG-JXe",
        "colab_type": "code",
        "colab": {}
      },
      "source": [
        "df_result.drop(['from'],axis=1).to_csv('./result.csv')"
      ],
      "execution_count": 0,
      "outputs": []
    },
    {
      "cell_type": "code",
      "metadata": {
        "id": "4_dIO9n2F9cI",
        "colab_type": "code",
        "colab": {}
      },
      "source": [
        ""
      ],
      "execution_count": 0,
      "outputs": []
    }
  ]
}