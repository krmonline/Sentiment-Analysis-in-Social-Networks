{
  "nbformat": 4,
  "nbformat_minor": 0,
  "metadata": {
    "colab": {
      "name": "twitterAPI.ipynb",
      "provenance": [],
      "mount_file_id": "https://github.com/krmonline/Sentiment-Analysis-in-Social-Networks/blob/master/twitterAPI.ipynb",
      "authorship_tag": "ABX9TyOm/nHoiueSEf2rVTqQYyqw",
      "include_colab_link": true
    },
    "kernelspec": {
      "name": "python3",
      "display_name": "Python 3"
    }
  },
  "cells": [
    {
      "cell_type": "markdown",
      "metadata": {
        "id": "view-in-github",
        "colab_type": "text"
      },
      "source": [
        "<a href=\"https://colab.research.google.com/github/krmonline/Sentiment-Analysis-in-Social-Networks/blob/master/twitterAPI.ipynb\" target=\"_parent\"><img src=\"https://colab.research.google.com/assets/colab-badge.svg\" alt=\"Open In Colab\"/></a>"
      ]
    },
    {
      "cell_type": "code",
      "metadata": {
        "id": "zsf3ZoNXUcY5",
        "colab_type": "code",
        "outputId": "de8a52a8-9daa-4663-b0fe-771c63c7676b",
        "colab": {
          "base_uri": "https://localhost:8080/",
          "height": 190
        }
      },
      "source": [
        "!pip install python-twitter"
      ],
      "execution_count": 62,
      "outputs": [
        {
          "output_type": "stream",
          "text": [
            "Requirement already satisfied: python-twitter in /usr/local/lib/python3.6/dist-packages (3.5)\n",
            "Requirement already satisfied: requests-oauthlib in /usr/local/lib/python3.6/dist-packages (from python-twitter) (1.3.0)\n",
            "Requirement already satisfied: requests in /usr/local/lib/python3.6/dist-packages (from python-twitter) (2.23.0)\n",
            "Requirement already satisfied: future in /usr/local/lib/python3.6/dist-packages (from python-twitter) (0.16.0)\n",
            "Requirement already satisfied: oauthlib>=3.0.0 in /usr/local/lib/python3.6/dist-packages (from requests-oauthlib->python-twitter) (3.1.0)\n",
            "Requirement already satisfied: idna<3,>=2.5 in /usr/local/lib/python3.6/dist-packages (from requests->python-twitter) (2.9)\n",
            "Requirement already satisfied: urllib3!=1.25.0,!=1.25.1,<1.26,>=1.21.1 in /usr/local/lib/python3.6/dist-packages (from requests->python-twitter) (1.24.3)\n",
            "Requirement already satisfied: chardet<4,>=3.0.2 in /usr/local/lib/python3.6/dist-packages (from requests->python-twitter) (3.0.4)\n",
            "Requirement already satisfied: certifi>=2017.4.17 in /usr/local/lib/python3.6/dist-packages (from requests->python-twitter) (2020.4.5.1)\n"
          ],
          "name": "stdout"
        }
      ]
    },
    {
      "cell_type": "code",
      "metadata": {
        "id": "Wj8patFbVw8O",
        "colab_type": "code",
        "colab": {}
      },
      "source": [
        "import twitter\n",
        "import json\n",
        "import pandas as pd\n",
        "import re"
      ],
      "execution_count": 0,
      "outputs": []
    },
    {
      "cell_type": "code",
      "metadata": {
        "id": "RrgOrhB6R9CZ",
        "colab_type": "code",
        "colab": {}
      },
      "source": [
        "api = twitter.Api(consumer_key='oDKPWSD8rmxUH45YX0GZLA',\n",
        "                  consumer_secret='uhIyNztO12ctxD6dMPVuQsRcRHE7VZ9pN3wCxVTkk',\n",
        "                  access_token_key='14649420-lVFpnBFPHMK5FuBdRs6yA5NVv2nz1L5ybuRTPvmHp',\n",
        "                  access_token_secret='biMcXhRQZEwi8EviwPGdZPL8Vp0FMT7uaiYJ6uKbhdnQv')"
      ],
      "execution_count": 0,
      "outputs": []
    },
    {
      "cell_type": "code",
      "metadata": {
        "id": "uFRUlpklWZzU",
        "colab_type": "code",
        "colab": {}
      },
      "source": [
        "arr_search = api.GetSearch('เที่ยว',count=10)"
      ],
      "execution_count": 0,
      "outputs": []
    },
    {
      "cell_type": "code",
      "metadata": {
        "id": "zAYM8bD4x4Lr",
        "colab_type": "code",
        "colab": {
          "base_uri": "https://localhost:8080/",
          "height": 207
        },
        "outputId": "e7118a43-ab90-4132-b2ac-729a704932b8"
      },
      "source": [
        "arr_search"
      ],
      "execution_count": 66,
      "outputs": [
        {
          "output_type": "execute_result",
          "data": {
            "text/plain": [
              "[Status(ID=1267232486137843712, ScreenName=stjinx_maya, Created=Sun May 31 23:12:23 +0000 2020, Text='@Tawan_V @off_tumcial ถ้าไม่นับช่วงนอนโง่ๆ ของน้อง\\nน้องก็เหมือนยังไม่ได้พักเลย เพราะการพักคือการเที่ยว. 😂'),\n",
              " Status(ID=1267057513226272768, ScreenName=ThaiPBS, Created=Sun May 31 11:37:06 +0000 2020, Text='ผู้ประกอบการท่องเที่ยว ระบุว่าเริ่มเห็นคนไทยออกมาเที่ยวต่างจังหวัดมากขึ้น โดยมียอดจองห้องพักเพิ่มขึ้นร้อยละ 30 หลัง… https://t.co/92DK3kqirD'),\n",
              " Status(ID=1267244276263632896, ScreenName=ThaiPBSNews, Created=Sun May 31 23:59:14 +0000 2020, Text='ชมรมส่งเสริมการท่องเที่ยวอำเภอวังน้ำเขียว ชวนเที่ยวแลนด์มาร์คแห่งใหม่ของจังหวัดนครราชสีมา บริเวณริมถนนสาย 3060 (วัง… https://t.co/MhQbE2ANSl'),\n",
              " Status(ID=1267298144259207168, ScreenName=J28W09, Created=Mon Jun 01 03:33:17 +0000 2020, Text='RT @cloudtosky: น้องเยดัมมีเพื่อนเป็นไอดอลมากกว่าที่คิด ตอนแรกเห็นไปเที่ยวกับอึนซัง ตกใจมากรอบนี้ได้จองอินมาช่วยโปรโมตเพลงอีก เป็นคสพที่น่า…'),\n",
              " Status(ID=1267298095701692417, ScreenName=std_cake, Created=Mon Jun 01 03:33:05 +0000 2020, Text='RT @ohchanraburabu: ขำแม่ก๊อตมากจะทุบแต่อิปี๊ อิน้องก็แอคติ่งเก่ง แต่เรื่องมันจบที่น้องได้ตังค์จากอิปี๊ไปเที่ยวนะ5555\\n#ทฤษฎีจีบเธอ\\n#ออฟกัน…'),\n",
              " Status(ID=1267298087757705216, ScreenName=fluffykimx, Created=Mon Jun 01 03:33:04 +0000 2020, Text='RT @fahlkjh: Vlog คู่รักหวานๆ เที่ยวครั้งแรกเป็นยังไง ไปดู ! https://t.co/HhmEUCpZui'),\n",
              " Status(ID=1267298081977987072, ScreenName=mintK24, Created=Mon Jun 01 03:33:02 +0000 2020, Text='RT @sprinkleoncakee: สมุดบันทึกตอนที่ไปเที่ยวแถบๆAustria ปี2017 (พ่อถ่ายให้หลายเทคมาก5555) https://t.co/YJGQ8E9utz'),\n",
              " Status(ID=1267298076538142720, ScreenName=mpcx1, Created=Mon Jun 01 03:33:01 +0000 2020, Text='อยากเที่ยวเเค่กับคนสองคนพอเเค่ไม่อยากเดินคนเดียวเหงา!'),\n",
              " Status(ID=1267298067755069440, ScreenName=nmfnwnttt, Created=Mon Jun 01 03:32:59 +0000 2020, Text='RT @ohchanraburabu: ขำแม่ก๊อตมากจะทุบแต่อิปี๊ อิน้องก็แอคติ่งเก่ง แต่เรื่องมันจบที่น้องได้ตังค์จากอิปี๊ไปเที่ยวนะ5555\\n#ทฤษฎีจีบเธอ\\n#ออฟกัน…'),\n",
              " Status(ID=1267298065561632768, ScreenName=jkookrmjsgjhjmv, Created=Mon Jun 01 03:32:58 +0000 2020, Text='RT @seoulcuteclub: Midnight Runners 🏃🏻🤰🏻เป็นเรื่องที่ตลกโบ๊ะบ๊ะที่สุด ซอจุนและฮานึลรับส่งมุกเข้ากันมาก ทั้งคู่เป็นนักศึกษาตำรวจ ออกไปเที่ยว…')]"
            ]
          },
          "metadata": {
            "tags": []
          },
          "execution_count": 66
        }
      ]
    },
    {
      "cell_type": "code",
      "metadata": {
        "id": "ZKuvsH_at_lo",
        "colab_type": "code",
        "colab": {}
      },
      "source": [
        "a = [json.loads(i.AsJsonString()) for i in arr_search]"
      ],
      "execution_count": 0,
      "outputs": []
    },
    {
      "cell_type": "code",
      "metadata": {
        "id": "jKPv54aku53h",
        "colab_type": "code",
        "outputId": "ce552420-0458-4f9d-ff2a-1792dcceca1d",
        "colab": {
          "base_uri": "https://localhost:8080/",
          "height": 564
        }
      },
      "source": [
        "df = pd.DataFrame(a)\n",
        "#pd.to_datetime(df.created_at)\n",
        "df.head()"
      ],
      "execution_count": 68,
      "outputs": [
        {
          "output_type": "execute_result",
          "data": {
            "text/html": [
              "<div>\n",
              "<style scoped>\n",
              "    .dataframe tbody tr th:only-of-type {\n",
              "        vertical-align: middle;\n",
              "    }\n",
              "\n",
              "    .dataframe tbody tr th {\n",
              "        vertical-align: top;\n",
              "    }\n",
              "\n",
              "    .dataframe thead th {\n",
              "        text-align: right;\n",
              "    }\n",
              "</style>\n",
              "<table border=\"1\" class=\"dataframe\">\n",
              "  <thead>\n",
              "    <tr style=\"text-align: right;\">\n",
              "      <th></th>\n",
              "      <th>created_at</th>\n",
              "      <th>favorite_count</th>\n",
              "      <th>hashtags</th>\n",
              "      <th>id</th>\n",
              "      <th>id_str</th>\n",
              "      <th>in_reply_to_screen_name</th>\n",
              "      <th>in_reply_to_status_id</th>\n",
              "      <th>in_reply_to_user_id</th>\n",
              "      <th>lang</th>\n",
              "      <th>retweet_count</th>\n",
              "      <th>source</th>\n",
              "      <th>text</th>\n",
              "      <th>urls</th>\n",
              "      <th>user</th>\n",
              "      <th>user_mentions</th>\n",
              "      <th>truncated</th>\n",
              "      <th>retweeted_status</th>\n",
              "      <th>media</th>\n",
              "    </tr>\n",
              "  </thead>\n",
              "  <tbody>\n",
              "    <tr>\n",
              "      <th>0</th>\n",
              "      <td>Sun May 31 23:12:23 +0000 2020</td>\n",
              "      <td>7859.0</td>\n",
              "      <td>[]</td>\n",
              "      <td>1267232486137843712</td>\n",
              "      <td>1267232486137843712</td>\n",
              "      <td>Tawan_V</td>\n",
              "      <td>1.267230e+18</td>\n",
              "      <td>57027096.0</td>\n",
              "      <td>th</td>\n",
              "      <td>1873.0</td>\n",
              "      <td>&lt;a href=\"http://twitter.com/download/iphone\" r...</td>\n",
              "      <td>@Tawan_V @off_tumcial ถ้าไม่นับช่วงนอนโง่ๆ ของ...</td>\n",
              "      <td>[]</td>\n",
              "      <td>{'created_at': 'Wed Sep 23 06:53:36 +0000 2015...</td>\n",
              "      <td>[{'id': 57027096, 'id_str': '57027096', 'name'...</td>\n",
              "      <td>NaN</td>\n",
              "      <td>NaN</td>\n",
              "      <td>NaN</td>\n",
              "    </tr>\n",
              "    <tr>\n",
              "      <th>1</th>\n",
              "      <td>Sun May 31 11:37:06 +0000 2020</td>\n",
              "      <td>63.0</td>\n",
              "      <td>[]</td>\n",
              "      <td>1267057513226272768</td>\n",
              "      <td>1267057513226272768</td>\n",
              "      <td>NaN</td>\n",
              "      <td>NaN</td>\n",
              "      <td>NaN</td>\n",
              "      <td>th</td>\n",
              "      <td>32.0</td>\n",
              "      <td>&lt;a href=\"http://grabyo.com\" rel=\"nofollow\"&gt;Gra...</td>\n",
              "      <td>ผู้ประกอบการท่องเที่ยว ระบุว่าเริ่มเห็นคนไทยออ...</td>\n",
              "      <td>[{'expanded_url': 'https://twitter.com/i/web/s...</td>\n",
              "      <td>{'created_at': 'Tue May 05 15:48:26 +0000 2009...</td>\n",
              "      <td>[]</td>\n",
              "      <td>True</td>\n",
              "      <td>NaN</td>\n",
              "      <td>NaN</td>\n",
              "    </tr>\n",
              "    <tr>\n",
              "      <th>2</th>\n",
              "      <td>Sun May 31 23:59:14 +0000 2020</td>\n",
              "      <td>28.0</td>\n",
              "      <td>[]</td>\n",
              "      <td>1267244276263632896</td>\n",
              "      <td>1267244276263632896</td>\n",
              "      <td>NaN</td>\n",
              "      <td>NaN</td>\n",
              "      <td>NaN</td>\n",
              "      <td>th</td>\n",
              "      <td>29.0</td>\n",
              "      <td>&lt;a href=\"http://grabyo.com\" rel=\"nofollow\"&gt;Gra...</td>\n",
              "      <td>ชมรมส่งเสริมการท่องเที่ยวอำเภอวังน้ำเขียว ชวนเ...</td>\n",
              "      <td>[{'expanded_url': 'https://twitter.com/i/web/s...</td>\n",
              "      <td>{'created_at': 'Thu Jan 16 07:30:24 +0000 2014...</td>\n",
              "      <td>[]</td>\n",
              "      <td>True</td>\n",
              "      <td>NaN</td>\n",
              "      <td>NaN</td>\n",
              "    </tr>\n",
              "    <tr>\n",
              "      <th>3</th>\n",
              "      <td>Mon Jun 01 03:33:17 +0000 2020</td>\n",
              "      <td>NaN</td>\n",
              "      <td>[]</td>\n",
              "      <td>1267298144259207168</td>\n",
              "      <td>1267298144259207168</td>\n",
              "      <td>NaN</td>\n",
              "      <td>NaN</td>\n",
              "      <td>NaN</td>\n",
              "      <td>th</td>\n",
              "      <td>76.0</td>\n",
              "      <td>&lt;a href=\"http://twitter.com/download/android\" ...</td>\n",
              "      <td>RT @cloudtosky: น้องเยดัมมีเพื่อนเป็นไอดอลมากก...</td>\n",
              "      <td>[]</td>\n",
              "      <td>{'created_at': 'Wed Nov 30 12:45:21 +0000 2016...</td>\n",
              "      <td>[{'id': 1082440910531571717, 'id_str': '108244...</td>\n",
              "      <td>NaN</td>\n",
              "      <td>{'created_at': 'Mon Jun 01 03:19:58 +0000 2020...</td>\n",
              "      <td>NaN</td>\n",
              "    </tr>\n",
              "    <tr>\n",
              "      <th>4</th>\n",
              "      <td>Mon Jun 01 03:33:05 +0000 2020</td>\n",
              "      <td>NaN</td>\n",
              "      <td>[{'text': 'ทฤษฎีจีบเธอ'}, {'text': 'ออฟกัน'}]</td>\n",
              "      <td>1267298095701692417</td>\n",
              "      <td>1267298095701692417</td>\n",
              "      <td>NaN</td>\n",
              "      <td>NaN</td>\n",
              "      <td>NaN</td>\n",
              "      <td>th</td>\n",
              "      <td>369.0</td>\n",
              "      <td>&lt;a href=\"http://twitter.com/download/android\" ...</td>\n",
              "      <td>RT @ohchanraburabu: ขำแม่ก๊อตมากจะทุบแต่อิปี๊ ...</td>\n",
              "      <td>[]</td>\n",
              "      <td>{'created_at': 'Wed Oct 23 06:52:24 +0000 2019...</td>\n",
              "      <td>[{'id': 167782277, 'id_str': '167782277', 'nam...</td>\n",
              "      <td>NaN</td>\n",
              "      <td>{'created_at': 'Mon Jun 01 01:24:18 +0000 2020...</td>\n",
              "      <td>NaN</td>\n",
              "    </tr>\n",
              "  </tbody>\n",
              "</table>\n",
              "</div>"
            ],
            "text/plain": [
              "                       created_at  ...  media\n",
              "0  Sun May 31 23:12:23 +0000 2020  ...    NaN\n",
              "1  Sun May 31 11:37:06 +0000 2020  ...    NaN\n",
              "2  Sun May 31 23:59:14 +0000 2020  ...    NaN\n",
              "3  Mon Jun 01 03:33:17 +0000 2020  ...    NaN\n",
              "4  Mon Jun 01 03:33:05 +0000 2020  ...    NaN\n",
              "\n",
              "[5 rows x 18 columns]"
            ]
          },
          "metadata": {
            "tags": []
          },
          "execution_count": 68
        }
      ]
    },
    {
      "cell_type": "code",
      "metadata": {
        "id": "2It_hQOWLtjp",
        "colab_type": "code",
        "colab": {}
      },
      "source": [
        "arr_text = df.text.values"
      ],
      "execution_count": 0,
      "outputs": []
    },
    {
      "cell_type": "code",
      "metadata": {
        "id": "2aEbpHhwN6H6",
        "colab_type": "code",
        "colab": {}
      },
      "source": [
        "import pickle\n",
        "from google.colab import drive"
      ],
      "execution_count": 0,
      "outputs": []
    },
    {
      "cell_type": "code",
      "metadata": {
        "id": "W1ylIw8nVtsw",
        "colab_type": "code",
        "outputId": "1237b9c1-e598-4ae2-f6d5-0c9517290879",
        "colab": {
          "base_uri": "https://localhost:8080/",
          "height": 34
        }
      },
      "source": [
        "drive.mount('/content/drive')\n",
        "!mkdir -p '/content/drive/My Drive/Training/SocialNetwork'\n",
        "DATA_PATH = \"/content/drive/My Drive/Training/SocialNetwork\""
      ],
      "execution_count": 71,
      "outputs": [
        {
          "output_type": "stream",
          "text": [
            "Drive already mounted at /content/drive; to attempt to forcibly remount, call drive.mount(\"/content/drive\", force_remount=True).\n"
          ],
          "name": "stdout"
        }
      ]
    },
    {
      "cell_type": "code",
      "metadata": {
        "id": "hK17jAdoS-mx",
        "colab_type": "code",
        "colab": {}
      },
      "source": [
        "with open(DATA_PATH + '/arr_text_Raw.pickle', 'wb') as f:\n",
        "    pickle.dump(arr_text, f)"
      ],
      "execution_count": 0,
      "outputs": []
    },
    {
      "cell_type": "code",
      "metadata": {
        "id": "ClhwgSOrWj92",
        "colab_type": "code",
        "outputId": "93586a08-2fea-4801-a527-2c2ec0db9af0",
        "colab": {
          "base_uri": "https://localhost:8080/",
          "height": 204
        }
      },
      "source": [
        "df.text"
      ],
      "execution_count": 73,
      "outputs": [
        {
          "output_type": "execute_result",
          "data": {
            "text/plain": [
              "0    @Tawan_V @off_tumcial ถ้าไม่นับช่วงนอนโง่ๆ ของ...\n",
              "1    ผู้ประกอบการท่องเที่ยว ระบุว่าเริ่มเห็นคนไทยออ...\n",
              "2    ชมรมส่งเสริมการท่องเที่ยวอำเภอวังน้ำเขียว ชวนเ...\n",
              "3    RT @cloudtosky: น้องเยดัมมีเพื่อนเป็นไอดอลมากก...\n",
              "4    RT @ohchanraburabu: ขำแม่ก๊อตมากจะทุบแต่อิปี๊ ...\n",
              "5    RT @fahlkjh: Vlog คู่รักหวานๆ เที่ยวครั้งแรกเป...\n",
              "6    RT @sprinkleoncakee: สมุดบันทึกตอนที่ไปเที่ยวแ...\n",
              "7    อยากเที่ยวเเค่กับคนสองคนพอเเค่ไม่อยากเดินคนเดี...\n",
              "8    RT @ohchanraburabu: ขำแม่ก๊อตมากจะทุบแต่อิปี๊ ...\n",
              "9    RT @seoulcuteclub: Midnight Runners 🏃🏻🤰🏻เป็นเร...\n",
              "Name: text, dtype: object"
            ]
          },
          "metadata": {
            "tags": []
          },
          "execution_count": 73
        }
      ]
    },
    {
      "cell_type": "code",
      "metadata": {
        "id": "8g6Zki_lnUfv",
        "colab_type": "code",
        "colab": {}
      },
      "source": [
        "#HappyEmoticons\n",
        "emoticons_happy = set([\n",
        "    ':-)', ':)', ';)', ':o)', ':]', ':3', ':c)', ':>', '=]', '8)', '=)', ':}',\n",
        "    ':^)', ':-D', ':D', '8-D', '8D', 'x-D', 'xD', 'X-D', 'XD', '=-D', '=D',\n",
        "    '=-3', '=3', ':-))', \":'-)\", \":')\", ':*', ':^*', '>:P', ':-P', ':P', 'X-P',\n",
        "    'x-p', 'xp', 'XP', ':-p', ':p', '=p', ':-b', ':b', '>:)', '>;)', '>:-)',\n",
        "    '<3'\n",
        "    ])"
      ],
      "execution_count": 0,
      "outputs": []
    },
    {
      "cell_type": "code",
      "metadata": {
        "id": "sKlMCSbd_iqi",
        "colab_type": "code",
        "colab": {}
      },
      "source": [
        "# Sad Emoticons\n",
        "emoticons_sad = set([\n",
        "    ':L', ':-/', '>:/', ':S', '>:[', ':@', ':-(', ':[', ':-||', '=L', ':<',\n",
        "    ':-[', ':-<', '=\\\\', '=/', '>:(', ':(', '>.<', \":'-(\", \":'(\", ':\\\\', ':-c',\n",
        "    ':c', ':{', '>:\\\\', ';('\n",
        "    ])"
      ],
      "execution_count": 0,
      "outputs": []
    },
    {
      "cell_type": "code",
      "metadata": {
        "id": "6FT0W5lW_o9W",
        "colab_type": "code",
        "colab": {}
      },
      "source": [
        "#Emoji patterns\n",
        "emoji_pattern = re.compile(\"[\"\n",
        "         u\"\\U0001F600-\\U0001F64F\"  # emoticons\n",
        "         u\"\\U0001F300-\\U0001F5FF\"  # symbols & pictographs\n",
        "         u\"\\U0001F680-\\U0001F6FF\"  # transport & map symbols\n",
        "         u\"\\U0001F1E0-\\U0001F1FF\"  # flags (iOS)\n",
        "         u\"\\U00002702-\\U000027B0\"\n",
        "         u\"\\U000024C2-\\U0001F251\"\n",
        "         \"]+\", flags=re.UNICODE)"
      ],
      "execution_count": 0,
      "outputs": []
    },
    {
      "cell_type": "code",
      "metadata": {
        "id": "jScR8zWa_u5t",
        "colab_type": "code",
        "colab": {}
      },
      "source": [
        "emoticons = emoticons_happy.union(emoticons_sad)"
      ],
      "execution_count": 0,
      "outputs": []
    },
    {
      "cell_type": "code",
      "metadata": {
        "id": "85n9BV9SAOzt",
        "colab_type": "code",
        "outputId": "46ec2583-8ed3-40ab-914a-dbb1da087793",
        "colab": {
          "base_uri": "https://localhost:8080/",
          "height": 34
        }
      },
      "source": [
        "!pip install tweet-preprocessor"
      ],
      "execution_count": 78,
      "outputs": [
        {
          "output_type": "stream",
          "text": [
            "Requirement already satisfied: tweet-preprocessor in /usr/local/lib/python3.6/dist-packages (0.6.0)\n"
          ],
          "name": "stdout"
        }
      ]
    },
    {
      "cell_type": "code",
      "metadata": {
        "id": "WrNSb4oh_6lO",
        "colab_type": "code",
        "colab": {}
      },
      "source": [
        "import preprocessor as p"
      ],
      "execution_count": 0,
      "outputs": []
    },
    {
      "cell_type": "code",
      "metadata": {
        "id": "zxyBS1rCANmE",
        "colab_type": "code",
        "outputId": "9fbb72f0-f809-4815-aa1d-eddc623345b9",
        "colab": {
          "base_uri": "https://localhost:8080/",
          "height": 102
        }
      },
      "source": [
        "clean_text = p.clean(arr_text[8])\n",
        "print(arr_text[8])\n",
        "print(\"\")\n",
        "print(clean_text)"
      ],
      "execution_count": 80,
      "outputs": [
        {
          "output_type": "stream",
          "text": [
            "RT @ohchanraburabu: ขำแม่ก๊อตมากจะทุบแต่อิปี๊ อิน้องก็แอคติ่งเก่ง แต่เรื่องมันจบที่น้องได้ตังค์จากอิปี๊ไปเที่ยวนะ5555\n",
            "#ทฤษฎีจีบเธอ\n",
            "#ออฟกัน…\n",
            "\n",
            ":\n"
          ],
          "name": "stdout"
        }
      ]
    },
    {
      "cell_type": "code",
      "metadata": {
        "id": "v1Lq33iKBH87",
        "colab_type": "code",
        "outputId": "a9421c2e-bd92-4b37-d070-a38b667c9394",
        "colab": {
          "base_uri": "https://localhost:8080/",
          "height": 989
        }
      },
      "source": [
        "!pip install pythainlp \n",
        "!pip install deepcut"
      ],
      "execution_count": 81,
      "outputs": [
        {
          "output_type": "stream",
          "text": [
            "Requirement already satisfied: pythainlp in /usr/local/lib/python3.6/dist-packages (2.1.4)\n",
            "Requirement already satisfied: requests>=2.22.0 in /usr/local/lib/python3.6/dist-packages (from pythainlp) (2.23.0)\n",
            "Requirement already satisfied: nltk>=3.3 in /usr/local/lib/python3.6/dist-packages (from pythainlp) (3.5)\n",
            "Requirement already satisfied: tqdm>=4.1 in /usr/local/lib/python3.6/dist-packages (from pythainlp) (4.41.1)\n",
            "Requirement already satisfied: dill>=0.3.0 in /usr/local/lib/python3.6/dist-packages (from pythainlp) (0.3.1.1)\n",
            "Requirement already satisfied: tinydb>=3.0 in /usr/local/lib/python3.6/dist-packages (from pythainlp) (4.1.1)\n",
            "Requirement already satisfied: chardet<4,>=3.0.2 in /usr/local/lib/python3.6/dist-packages (from requests>=2.22.0->pythainlp) (3.0.4)\n",
            "Requirement already satisfied: idna<3,>=2.5 in /usr/local/lib/python3.6/dist-packages (from requests>=2.22.0->pythainlp) (2.9)\n",
            "Requirement already satisfied: urllib3!=1.25.0,!=1.25.1,<1.26,>=1.21.1 in /usr/local/lib/python3.6/dist-packages (from requests>=2.22.0->pythainlp) (1.24.3)\n",
            "Requirement already satisfied: certifi>=2017.4.17 in /usr/local/lib/python3.6/dist-packages (from requests>=2.22.0->pythainlp) (2020.4.5.1)\n",
            "Requirement already satisfied: click in /usr/local/lib/python3.6/dist-packages (from nltk>=3.3->pythainlp) (7.1.2)\n",
            "Requirement already satisfied: joblib in /usr/local/lib/python3.6/dist-packages (from nltk>=3.3->pythainlp) (0.15.1)\n",
            "Requirement already satisfied: regex in /usr/local/lib/python3.6/dist-packages (from nltk>=3.3->pythainlp) (2019.12.20)\n",
            "Requirement already satisfied: deepcut in /usr/local/lib/python3.6/dist-packages (0.7.0.0)\n",
            "Requirement already satisfied: numpy in /usr/local/lib/python3.6/dist-packages (from deepcut) (1.18.4)\n",
            "Requirement already satisfied: pandas in /usr/local/lib/python3.6/dist-packages (from deepcut) (1.0.3)\n",
            "Requirement already satisfied: tensorflow>=2.0.0 in /usr/local/lib/python3.6/dist-packages (from deepcut) (2.2.0)\n",
            "Requirement already satisfied: scikit-learn in /usr/local/lib/python3.6/dist-packages (from deepcut) (0.22.2.post1)\n",
            "Requirement already satisfied: h5py in /usr/local/lib/python3.6/dist-packages (from deepcut) (2.10.0)\n",
            "Requirement already satisfied: scipy in /usr/local/lib/python3.6/dist-packages (from deepcut) (1.4.1)\n",
            "Requirement already satisfied: pytz>=2017.2 in /usr/local/lib/python3.6/dist-packages (from pandas->deepcut) (2018.9)\n",
            "Requirement already satisfied: python-dateutil>=2.6.1 in /usr/local/lib/python3.6/dist-packages (from pandas->deepcut) (2.8.1)\n",
            "Requirement already satisfied: google-pasta>=0.1.8 in /usr/local/lib/python3.6/dist-packages (from tensorflow>=2.0.0->deepcut) (0.2.0)\n",
            "Requirement already satisfied: six>=1.12.0 in /usr/local/lib/python3.6/dist-packages (from tensorflow>=2.0.0->deepcut) (1.12.0)\n",
            "Requirement already satisfied: absl-py>=0.7.0 in /usr/local/lib/python3.6/dist-packages (from tensorflow>=2.0.0->deepcut) (0.9.0)\n",
            "Requirement already satisfied: keras-preprocessing>=1.1.0 in /usr/local/lib/python3.6/dist-packages (from tensorflow>=2.0.0->deepcut) (1.1.2)\n",
            "Requirement already satisfied: wheel>=0.26; python_version >= \"3\" in /usr/local/lib/python3.6/dist-packages (from tensorflow>=2.0.0->deepcut) (0.34.2)\n",
            "Requirement already satisfied: opt-einsum>=2.3.2 in /usr/local/lib/python3.6/dist-packages (from tensorflow>=2.0.0->deepcut) (3.2.1)\n",
            "Requirement already satisfied: protobuf>=3.8.0 in /usr/local/lib/python3.6/dist-packages (from tensorflow>=2.0.0->deepcut) (3.10.0)\n",
            "Requirement already satisfied: tensorflow-estimator<2.3.0,>=2.2.0 in /usr/local/lib/python3.6/dist-packages (from tensorflow>=2.0.0->deepcut) (2.2.0)\n",
            "Requirement already satisfied: wrapt>=1.11.1 in /usr/local/lib/python3.6/dist-packages (from tensorflow>=2.0.0->deepcut) (1.12.1)\n",
            "Requirement already satisfied: astunparse==1.6.3 in /usr/local/lib/python3.6/dist-packages (from tensorflow>=2.0.0->deepcut) (1.6.3)\n",
            "Requirement already satisfied: tensorboard<2.3.0,>=2.2.0 in /usr/local/lib/python3.6/dist-packages (from tensorflow>=2.0.0->deepcut) (2.2.1)\n",
            "Requirement already satisfied: gast==0.3.3 in /usr/local/lib/python3.6/dist-packages (from tensorflow>=2.0.0->deepcut) (0.3.3)\n",
            "Requirement already satisfied: termcolor>=1.1.0 in /usr/local/lib/python3.6/dist-packages (from tensorflow>=2.0.0->deepcut) (1.1.0)\n",
            "Requirement already satisfied: grpcio>=1.8.6 in /usr/local/lib/python3.6/dist-packages (from tensorflow>=2.0.0->deepcut) (1.29.0)\n",
            "Requirement already satisfied: joblib>=0.11 in /usr/local/lib/python3.6/dist-packages (from scikit-learn->deepcut) (0.15.1)\n",
            "Requirement already satisfied: setuptools in /usr/local/lib/python3.6/dist-packages (from protobuf>=3.8.0->tensorflow>=2.0.0->deepcut) (46.4.0)\n",
            "Requirement already satisfied: google-auth<2,>=1.6.3 in /usr/local/lib/python3.6/dist-packages (from tensorboard<2.3.0,>=2.2.0->tensorflow>=2.0.0->deepcut) (1.7.2)\n",
            "Requirement already satisfied: markdown>=2.6.8 in /usr/local/lib/python3.6/dist-packages (from tensorboard<2.3.0,>=2.2.0->tensorflow>=2.0.0->deepcut) (3.2.2)\n",
            "Requirement already satisfied: requests<3,>=2.21.0 in /usr/local/lib/python3.6/dist-packages (from tensorboard<2.3.0,>=2.2.0->tensorflow>=2.0.0->deepcut) (2.23.0)\n",
            "Requirement already satisfied: werkzeug>=0.11.15 in /usr/local/lib/python3.6/dist-packages (from tensorboard<2.3.0,>=2.2.0->tensorflow>=2.0.0->deepcut) (1.0.1)\n",
            "Requirement already satisfied: google-auth-oauthlib<0.5,>=0.4.1 in /usr/local/lib/python3.6/dist-packages (from tensorboard<2.3.0,>=2.2.0->tensorflow>=2.0.0->deepcut) (0.4.1)\n",
            "Requirement already satisfied: tensorboard-plugin-wit>=1.6.0 in /usr/local/lib/python3.6/dist-packages (from tensorboard<2.3.0,>=2.2.0->tensorflow>=2.0.0->deepcut) (1.6.0.post3)\n",
            "Requirement already satisfied: cachetools<3.2,>=2.0.0 in /usr/local/lib/python3.6/dist-packages (from google-auth<2,>=1.6.3->tensorboard<2.3.0,>=2.2.0->tensorflow>=2.0.0->deepcut) (3.1.1)\n",
            "Requirement already satisfied: rsa<4.1,>=3.1.4 in /usr/local/lib/python3.6/dist-packages (from google-auth<2,>=1.6.3->tensorboard<2.3.0,>=2.2.0->tensorflow>=2.0.0->deepcut) (4.0)\n",
            "Requirement already satisfied: pyasn1-modules>=0.2.1 in /usr/local/lib/python3.6/dist-packages (from google-auth<2,>=1.6.3->tensorboard<2.3.0,>=2.2.0->tensorflow>=2.0.0->deepcut) (0.2.8)\n",
            "Requirement already satisfied: importlib-metadata; python_version < \"3.8\" in /usr/local/lib/python3.6/dist-packages (from markdown>=2.6.8->tensorboard<2.3.0,>=2.2.0->tensorflow>=2.0.0->deepcut) (1.6.0)\n",
            "Requirement already satisfied: certifi>=2017.4.17 in /usr/local/lib/python3.6/dist-packages (from requests<3,>=2.21.0->tensorboard<2.3.0,>=2.2.0->tensorflow>=2.0.0->deepcut) (2020.4.5.1)\n",
            "Requirement already satisfied: idna<3,>=2.5 in /usr/local/lib/python3.6/dist-packages (from requests<3,>=2.21.0->tensorboard<2.3.0,>=2.2.0->tensorflow>=2.0.0->deepcut) (2.9)\n",
            "Requirement already satisfied: urllib3!=1.25.0,!=1.25.1,<1.26,>=1.21.1 in /usr/local/lib/python3.6/dist-packages (from requests<3,>=2.21.0->tensorboard<2.3.0,>=2.2.0->tensorflow>=2.0.0->deepcut) (1.24.3)\n",
            "Requirement already satisfied: chardet<4,>=3.0.2 in /usr/local/lib/python3.6/dist-packages (from requests<3,>=2.21.0->tensorboard<2.3.0,>=2.2.0->tensorflow>=2.0.0->deepcut) (3.0.4)\n",
            "Requirement already satisfied: requests-oauthlib>=0.7.0 in /usr/local/lib/python3.6/dist-packages (from google-auth-oauthlib<0.5,>=0.4.1->tensorboard<2.3.0,>=2.2.0->tensorflow>=2.0.0->deepcut) (1.3.0)\n",
            "Requirement already satisfied: pyasn1>=0.1.3 in /usr/local/lib/python3.6/dist-packages (from rsa<4.1,>=3.1.4->google-auth<2,>=1.6.3->tensorboard<2.3.0,>=2.2.0->tensorflow>=2.0.0->deepcut) (0.4.8)\n",
            "Requirement already satisfied: zipp>=0.5 in /usr/local/lib/python3.6/dist-packages (from importlib-metadata; python_version < \"3.8\"->markdown>=2.6.8->tensorboard<2.3.0,>=2.2.0->tensorflow>=2.0.0->deepcut) (3.1.0)\n",
            "Requirement already satisfied: oauthlib>=3.0.0 in /usr/local/lib/python3.6/dist-packages (from requests-oauthlib>=0.7.0->google-auth-oauthlib<0.5,>=0.4.1->tensorboard<2.3.0,>=2.2.0->tensorflow>=2.0.0->deepcut) (3.1.0)\n"
          ],
          "name": "stdout"
        }
      ]
    },
    {
      "cell_type": "code",
      "metadata": {
        "id": "4zJNCd25BlJV",
        "colab_type": "code",
        "colab": {}
      },
      "source": [
        "import deepcut\n",
        "import nltk\n",
        "from nltk.corpus import stopwords"
      ],
      "execution_count": 0,
      "outputs": []
    },
    {
      "cell_type": "code",
      "metadata": {
        "id": "mu9tcxX3AjC3",
        "colab_type": "code",
        "colab": {}
      },
      "source": [
        "def clean_tweets(tweet):\n",
        "    stop_words = [\" \"]\n",
        "    word_tokens = tweet.split(\" \")\n",
        "#after tweepy preprocessing the colon symbol left remain after      #removing mentions\n",
        "    tweet = re.sub(r':', '', tweet)\n",
        "    tweet = re.sub(r'‚Ä¶', '', tweet)\n",
        "    tweet = re.sub(r\"RT\", '', tweet)\n",
        "    tweet = re.sub(r\"\\n\", '', tweet)\n",
        "    #print(tweet)\n",
        "#replace consecutive non-ASCII characters with a space\n",
        "#    tweet = re.sub(r'[^\\x00-\\x7F]+',' ', tweet)\n",
        "#remove emojis from tweet\n",
        "    tweet = emoji_pattern.sub(r'', tweet)\n",
        "#filter using NLTK library append it to a string\n",
        "#    filtered_tweet = [w for w in word_tokens if not w in stop_words]\n",
        "#    filtered_tweet = []\n",
        "#looping through conditions\n",
        "#    for w in word_tokens:\n",
        "#check tokens against stop words , emoticons and punctuations\n",
        "#        if w not in stop_words and w not in emoticons:\n",
        "#            filtered_tweet.append(w)\n",
        "#    return ' '.join(filtered_tweet)\n",
        "    #print(word_tokens)\n",
        "    #print(filtered_sentence)\n",
        "    return tweet"
      ],
      "execution_count": 0,
      "outputs": []
    },
    {
      "cell_type": "code",
      "metadata": {
        "id": "cyVN01dfA3fP",
        "colab_type": "code",
        "colab": {}
      },
      "source": [
        "df.text = df.text.apply(clean_tweets)"
      ],
      "execution_count": 0,
      "outputs": []
    },
    {
      "cell_type": "code",
      "metadata": {
        "id": "T5NPDNj6CIFY",
        "colab_type": "code",
        "outputId": "352c35bf-c257-432e-9648-75e2d818e186",
        "colab": {
          "base_uri": "https://localhost:8080/",
          "height": 1000
        }
      },
      "source": [
        "df"
      ],
      "execution_count": 85,
      "outputs": [
        {
          "output_type": "execute_result",
          "data": {
            "text/html": [
              "<div>\n",
              "<style scoped>\n",
              "    .dataframe tbody tr th:only-of-type {\n",
              "        vertical-align: middle;\n",
              "    }\n",
              "\n",
              "    .dataframe tbody tr th {\n",
              "        vertical-align: top;\n",
              "    }\n",
              "\n",
              "    .dataframe thead th {\n",
              "        text-align: right;\n",
              "    }\n",
              "</style>\n",
              "<table border=\"1\" class=\"dataframe\">\n",
              "  <thead>\n",
              "    <tr style=\"text-align: right;\">\n",
              "      <th></th>\n",
              "      <th>created_at</th>\n",
              "      <th>favorite_count</th>\n",
              "      <th>hashtags</th>\n",
              "      <th>id</th>\n",
              "      <th>id_str</th>\n",
              "      <th>in_reply_to_screen_name</th>\n",
              "      <th>in_reply_to_status_id</th>\n",
              "      <th>in_reply_to_user_id</th>\n",
              "      <th>lang</th>\n",
              "      <th>retweet_count</th>\n",
              "      <th>source</th>\n",
              "      <th>text</th>\n",
              "      <th>urls</th>\n",
              "      <th>user</th>\n",
              "      <th>user_mentions</th>\n",
              "      <th>truncated</th>\n",
              "      <th>retweeted_status</th>\n",
              "      <th>media</th>\n",
              "    </tr>\n",
              "  </thead>\n",
              "  <tbody>\n",
              "    <tr>\n",
              "      <th>0</th>\n",
              "      <td>Sun May 31 23:12:23 +0000 2020</td>\n",
              "      <td>7859.0</td>\n",
              "      <td>[]</td>\n",
              "      <td>1267232486137843712</td>\n",
              "      <td>1267232486137843712</td>\n",
              "      <td>Tawan_V</td>\n",
              "      <td>1.267230e+18</td>\n",
              "      <td>57027096.0</td>\n",
              "      <td>th</td>\n",
              "      <td>1873.0</td>\n",
              "      <td>&lt;a href=\"http://twitter.com/download/iphone\" r...</td>\n",
              "      <td>@Tawan_V @off_tumcial ถ้าไม่นับช่วงนอนโง่ๆ ของ...</td>\n",
              "      <td>[]</td>\n",
              "      <td>{'created_at': 'Wed Sep 23 06:53:36 +0000 2015...</td>\n",
              "      <td>[{'id': 57027096, 'id_str': '57027096', 'name'...</td>\n",
              "      <td>NaN</td>\n",
              "      <td>NaN</td>\n",
              "      <td>NaN</td>\n",
              "    </tr>\n",
              "    <tr>\n",
              "      <th>1</th>\n",
              "      <td>Sun May 31 11:37:06 +0000 2020</td>\n",
              "      <td>63.0</td>\n",
              "      <td>[]</td>\n",
              "      <td>1267057513226272768</td>\n",
              "      <td>1267057513226272768</td>\n",
              "      <td>NaN</td>\n",
              "      <td>NaN</td>\n",
              "      <td>NaN</td>\n",
              "      <td>th</td>\n",
              "      <td>32.0</td>\n",
              "      <td>&lt;a href=\"http://grabyo.com\" rel=\"nofollow\"&gt;Gra...</td>\n",
              "      <td>ผู้ประกอบการท่องเที่ยว ระบุว่าเริ่มเห็นคนไทยออ...</td>\n",
              "      <td>[{'expanded_url': 'https://twitter.com/i/web/s...</td>\n",
              "      <td>{'created_at': 'Tue May 05 15:48:26 +0000 2009...</td>\n",
              "      <td>[]</td>\n",
              "      <td>True</td>\n",
              "      <td>NaN</td>\n",
              "      <td>NaN</td>\n",
              "    </tr>\n",
              "    <tr>\n",
              "      <th>2</th>\n",
              "      <td>Sun May 31 23:59:14 +0000 2020</td>\n",
              "      <td>28.0</td>\n",
              "      <td>[]</td>\n",
              "      <td>1267244276263632896</td>\n",
              "      <td>1267244276263632896</td>\n",
              "      <td>NaN</td>\n",
              "      <td>NaN</td>\n",
              "      <td>NaN</td>\n",
              "      <td>th</td>\n",
              "      <td>29.0</td>\n",
              "      <td>&lt;a href=\"http://grabyo.com\" rel=\"nofollow\"&gt;Gra...</td>\n",
              "      <td>ชมรมส่งเสริมการท่องเที่ยวอำเภอวังน้ำเขียว ชวนเ...</td>\n",
              "      <td>[{'expanded_url': 'https://twitter.com/i/web/s...</td>\n",
              "      <td>{'created_at': 'Thu Jan 16 07:30:24 +0000 2014...</td>\n",
              "      <td>[]</td>\n",
              "      <td>True</td>\n",
              "      <td>NaN</td>\n",
              "      <td>NaN</td>\n",
              "    </tr>\n",
              "    <tr>\n",
              "      <th>3</th>\n",
              "      <td>Mon Jun 01 03:33:17 +0000 2020</td>\n",
              "      <td>NaN</td>\n",
              "      <td>[]</td>\n",
              "      <td>1267298144259207168</td>\n",
              "      <td>1267298144259207168</td>\n",
              "      <td>NaN</td>\n",
              "      <td>NaN</td>\n",
              "      <td>NaN</td>\n",
              "      <td>th</td>\n",
              "      <td>76.0</td>\n",
              "      <td>&lt;a href=\"http://twitter.com/download/android\" ...</td>\n",
              "      <td>@cloudtosky น้องเยดัมมีเพื่อนเป็นไอดอลมากกว่า...</td>\n",
              "      <td>[]</td>\n",
              "      <td>{'created_at': 'Wed Nov 30 12:45:21 +0000 2016...</td>\n",
              "      <td>[{'id': 1082440910531571717, 'id_str': '108244...</td>\n",
              "      <td>NaN</td>\n",
              "      <td>{'created_at': 'Mon Jun 01 03:19:58 +0000 2020...</td>\n",
              "      <td>NaN</td>\n",
              "    </tr>\n",
              "    <tr>\n",
              "      <th>4</th>\n",
              "      <td>Mon Jun 01 03:33:05 +0000 2020</td>\n",
              "      <td>NaN</td>\n",
              "      <td>[{'text': 'ทฤษฎีจีบเธอ'}, {'text': 'ออฟกัน'}]</td>\n",
              "      <td>1267298095701692417</td>\n",
              "      <td>1267298095701692417</td>\n",
              "      <td>NaN</td>\n",
              "      <td>NaN</td>\n",
              "      <td>NaN</td>\n",
              "      <td>th</td>\n",
              "      <td>369.0</td>\n",
              "      <td>&lt;a href=\"http://twitter.com/download/android\" ...</td>\n",
              "      <td>@ohchanraburabu ขำแม่ก๊อตมากจะทุบแต่อิปี๊ อิน...</td>\n",
              "      <td>[]</td>\n",
              "      <td>{'created_at': 'Wed Oct 23 06:52:24 +0000 2019...</td>\n",
              "      <td>[{'id': 167782277, 'id_str': '167782277', 'nam...</td>\n",
              "      <td>NaN</td>\n",
              "      <td>{'created_at': 'Mon Jun 01 01:24:18 +0000 2020...</td>\n",
              "      <td>NaN</td>\n",
              "    </tr>\n",
              "    <tr>\n",
              "      <th>5</th>\n",
              "      <td>Mon Jun 01 03:33:04 +0000 2020</td>\n",
              "      <td>NaN</td>\n",
              "      <td>[]</td>\n",
              "      <td>1267298087757705216</td>\n",
              "      <td>1267298087757705216</td>\n",
              "      <td>NaN</td>\n",
              "      <td>NaN</td>\n",
              "      <td>NaN</td>\n",
              "      <td>th</td>\n",
              "      <td>664.0</td>\n",
              "      <td>&lt;a href=\"http://twitter.com/download/android\" ...</td>\n",
              "      <td>@fahlkjh Vlog คู่รักหวานๆ เที่ยวครั้งแรกเป็นย...</td>\n",
              "      <td>[]</td>\n",
              "      <td>{'created_at': 'Wed Aug 08 00:54:50 +0000 2018...</td>\n",
              "      <td>[{'id': 4856271114, 'id_str': '4856271114', 'n...</td>\n",
              "      <td>NaN</td>\n",
              "      <td>{'created_at': 'Sun May 31 15:34:02 +0000 2020...</td>\n",
              "      <td>[{'display_url': 'pic.twitter.com/HhmEUCpZui',...</td>\n",
              "    </tr>\n",
              "    <tr>\n",
              "      <th>6</th>\n",
              "      <td>Mon Jun 01 03:33:02 +0000 2020</td>\n",
              "      <td>NaN</td>\n",
              "      <td>[]</td>\n",
              "      <td>1267298081977987072</td>\n",
              "      <td>1267298081977987072</td>\n",
              "      <td>NaN</td>\n",
              "      <td>NaN</td>\n",
              "      <td>NaN</td>\n",
              "      <td>th</td>\n",
              "      <td>21281.0</td>\n",
              "      <td>&lt;a href=\"http://twitter.com/download/iphone\" r...</td>\n",
              "      <td>@sprinkleoncakee สมุดบันทึกตอนที่ไปเที่ยวแถบๆ...</td>\n",
              "      <td>[]</td>\n",
              "      <td>{'created_at': 'Thu Sep 18 04:37:34 +0000 2014...</td>\n",
              "      <td>[{'id': 1262302735858143232, 'id_str': '126230...</td>\n",
              "      <td>NaN</td>\n",
              "      <td>{'created_at': 'Sat May 30 13:55:08 +0000 2020...</td>\n",
              "      <td>[{'display_url': 'pic.twitter.com/YJGQ8E9utz',...</td>\n",
              "    </tr>\n",
              "    <tr>\n",
              "      <th>7</th>\n",
              "      <td>Mon Jun 01 03:33:01 +0000 2020</td>\n",
              "      <td>NaN</td>\n",
              "      <td>[]</td>\n",
              "      <td>1267298076538142720</td>\n",
              "      <td>1267298076538142720</td>\n",
              "      <td>NaN</td>\n",
              "      <td>NaN</td>\n",
              "      <td>NaN</td>\n",
              "      <td>th</td>\n",
              "      <td>NaN</td>\n",
              "      <td>&lt;a href=\"http://twitter.com/download/iphone\" r...</td>\n",
              "      <td>อยากเที่ยวเเค่กับคนสองคนพอเเค่ไม่อยากเดินคนเดี...</td>\n",
              "      <td>[]</td>\n",
              "      <td>{'created_at': 'Fri Nov 15 12:52:29 +0000 2019...</td>\n",
              "      <td>[]</td>\n",
              "      <td>NaN</td>\n",
              "      <td>NaN</td>\n",
              "      <td>NaN</td>\n",
              "    </tr>\n",
              "    <tr>\n",
              "      <th>8</th>\n",
              "      <td>Mon Jun 01 03:32:59 +0000 2020</td>\n",
              "      <td>NaN</td>\n",
              "      <td>[{'text': 'ทฤษฎีจีบเธอ'}, {'text': 'ออฟกัน'}]</td>\n",
              "      <td>1267298067755069440</td>\n",
              "      <td>1267298067755069440</td>\n",
              "      <td>NaN</td>\n",
              "      <td>NaN</td>\n",
              "      <td>NaN</td>\n",
              "      <td>th</td>\n",
              "      <td>369.0</td>\n",
              "      <td>&lt;a href=\"http://twitter.com/download/iphone\" r...</td>\n",
              "      <td>@ohchanraburabu ขำแม่ก๊อตมากจะทุบแต่อิปี๊ อิน...</td>\n",
              "      <td>[]</td>\n",
              "      <td>{'created_at': 'Mon Mar 11 06:56:09 +0000 2019...</td>\n",
              "      <td>[{'id': 167782277, 'id_str': '167782277', 'nam...</td>\n",
              "      <td>NaN</td>\n",
              "      <td>{'created_at': 'Mon Jun 01 01:24:18 +0000 2020...</td>\n",
              "      <td>NaN</td>\n",
              "    </tr>\n",
              "    <tr>\n",
              "      <th>9</th>\n",
              "      <td>Mon Jun 01 03:32:58 +0000 2020</td>\n",
              "      <td>NaN</td>\n",
              "      <td>[]</td>\n",
              "      <td>1267298065561632768</td>\n",
              "      <td>1267298065561632768</td>\n",
              "      <td>NaN</td>\n",
              "      <td>NaN</td>\n",
              "      <td>NaN</td>\n",
              "      <td>th</td>\n",
              "      <td>4485.0</td>\n",
              "      <td>&lt;a href=\"http://twitter.com/download/android\" ...</td>\n",
              "      <td>@seoulcuteclub Midnight Runners 🤰เป็นเรื่องที...</td>\n",
              "      <td>[]</td>\n",
              "      <td>{'created_at': 'Tue Jan 10 11:49:54 +0000 2017...</td>\n",
              "      <td>[{'id': 755795245757890562, 'id_str': '7557952...</td>\n",
              "      <td>NaN</td>\n",
              "      <td>{'created_at': 'Sat May 30 15:36:52 +0000 2020...</td>\n",
              "      <td>NaN</td>\n",
              "    </tr>\n",
              "  </tbody>\n",
              "</table>\n",
              "</div>"
            ],
            "text/plain": [
              "                       created_at  ...                                              media\n",
              "0  Sun May 31 23:12:23 +0000 2020  ...                                                NaN\n",
              "1  Sun May 31 11:37:06 +0000 2020  ...                                                NaN\n",
              "2  Sun May 31 23:59:14 +0000 2020  ...                                                NaN\n",
              "3  Mon Jun 01 03:33:17 +0000 2020  ...                                                NaN\n",
              "4  Mon Jun 01 03:33:05 +0000 2020  ...                                                NaN\n",
              "5  Mon Jun 01 03:33:04 +0000 2020  ...  [{'display_url': 'pic.twitter.com/HhmEUCpZui',...\n",
              "6  Mon Jun 01 03:33:02 +0000 2020  ...  [{'display_url': 'pic.twitter.com/YJGQ8E9utz',...\n",
              "7  Mon Jun 01 03:33:01 +0000 2020  ...                                                NaN\n",
              "8  Mon Jun 01 03:32:59 +0000 2020  ...                                                NaN\n",
              "9  Mon Jun 01 03:32:58 +0000 2020  ...                                                NaN\n",
              "\n",
              "[10 rows x 18 columns]"
            ]
          },
          "metadata": {
            "tags": []
          },
          "execution_count": 85
        }
      ]
    },
    {
      "cell_type": "code",
      "metadata": {
        "id": "s6r1OrqnH57g",
        "colab_type": "code",
        "colab": {}
      },
      "source": [
        "from bs4 import BeautifulSoup\n",
        "def stripA(x):\n",
        "  soup = BeautifulSoup(x)\n",
        "  text = soup.get_text()\n",
        "  return text"
      ],
      "execution_count": 0,
      "outputs": []
    },
    {
      "cell_type": "code",
      "metadata": {
        "id": "qZEeTl-uIKpr",
        "colab_type": "code",
        "colab": {}
      },
      "source": [
        "df.source = df.source.apply(stripA)"
      ],
      "execution_count": 0,
      "outputs": []
    },
    {
      "cell_type": "code",
      "metadata": {
        "id": "0oy2o9NEIHGt",
        "colab_type": "code",
        "colab": {}
      },
      "source": [
        "df.user = df.user.apply(lambda x: x['name'])"
      ],
      "execution_count": 0,
      "outputs": []
    },
    {
      "cell_type": "code",
      "metadata": {
        "id": "3GOyhMugHCfN",
        "colab_type": "code",
        "colab": {}
      },
      "source": [
        "df.to_csv(\"./twitter.csv\")"
      ],
      "execution_count": 0,
      "outputs": []
    },
    {
      "cell_type": "code",
      "metadata": {
        "id": "0stWxHT57Z-r",
        "colab_type": "code",
        "colab": {}
      },
      "source": [
        "df"
      ],
      "execution_count": 0,
      "outputs": []
    }
  ]
}