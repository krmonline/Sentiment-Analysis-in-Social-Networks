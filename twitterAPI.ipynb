{
  "nbformat": 4,
  "nbformat_minor": 0,
  "metadata": {
    "colab": {
      "name": "twitterAPI.ipynb",
      "provenance": [],
      "authorship_tag": "ABX9TyP1pbMuj3PXjgv1uvN9T99K",
      "include_colab_link": true
    },
    "kernelspec": {
      "name": "python3",
      "display_name": "Python 3"
    }
  },
  "cells": [
    {
      "cell_type": "markdown",
      "metadata": {
        "id": "view-in-github",
        "colab_type": "text"
      },
      "source": [
        "<a href=\"https://colab.research.google.com/github/krmonline/Sentiment-Analysis-in-Social-Networks/blob/master/twitterAPI.ipynb\" target=\"_parent\"><img src=\"https://colab.research.google.com/assets/colab-badge.svg\" alt=\"Open In Colab\"/></a>"
      ]
    },
    {
      "cell_type": "code",
      "metadata": {
        "id": "zsf3ZoNXUcY5",
        "colab_type": "code",
        "outputId": "11fa4dbb-8307-4318-8a1f-1b3f12c19bf1",
        "colab": {
          "base_uri": "https://localhost:8080/",
          "height": 258
        }
      },
      "source": [
        "!pip install python-twitter"
      ],
      "execution_count": 1,
      "outputs": [
        {
          "output_type": "stream",
          "text": [
            "Collecting python-twitter\n",
            "\u001b[?25l  Downloading https://files.pythonhosted.org/packages/b3/a9/2eb36853d8ca49a70482e2332aa5082e09b3180391671101b1612e3aeaf1/python_twitter-3.5-py2.py3-none-any.whl (67kB)\n",
            "\r\u001b[K     |████▉                           | 10kB 15.9MB/s eta 0:00:01\r\u001b[K     |█████████▊                      | 20kB 1.7MB/s eta 0:00:01\r\u001b[K     |██████████████▋                 | 30kB 2.6MB/s eta 0:00:01\r\u001b[K     |███████████████████▌            | 40kB 3.3MB/s eta 0:00:01\r\u001b[K     |████████████████████████▎       | 51kB 2.1MB/s eta 0:00:01\r\u001b[K     |█████████████████████████████▏  | 61kB 2.5MB/s eta 0:00:01\r\u001b[K     |████████████████████████████████| 71kB 2.2MB/s \n",
            "\u001b[?25hRequirement already satisfied: requests in /usr/local/lib/python3.6/dist-packages (from python-twitter) (2.23.0)\n",
            "Requirement already satisfied: requests-oauthlib in /usr/local/lib/python3.6/dist-packages (from python-twitter) (1.3.0)\n",
            "Requirement already satisfied: future in /usr/local/lib/python3.6/dist-packages (from python-twitter) (0.16.0)\n",
            "Requirement already satisfied: urllib3!=1.25.0,!=1.25.1,<1.26,>=1.21.1 in /usr/local/lib/python3.6/dist-packages (from requests->python-twitter) (1.24.3)\n",
            "Requirement already satisfied: idna<3,>=2.5 in /usr/local/lib/python3.6/dist-packages (from requests->python-twitter) (2.9)\n",
            "Requirement already satisfied: chardet<4,>=3.0.2 in /usr/local/lib/python3.6/dist-packages (from requests->python-twitter) (3.0.4)\n",
            "Requirement already satisfied: certifi>=2017.4.17 in /usr/local/lib/python3.6/dist-packages (from requests->python-twitter) (2020.4.5.1)\n",
            "Requirement already satisfied: oauthlib>=3.0.0 in /usr/local/lib/python3.6/dist-packages (from requests-oauthlib->python-twitter) (3.1.0)\n",
            "Installing collected packages: python-twitter\n",
            "Successfully installed python-twitter-3.5\n"
          ],
          "name": "stdout"
        }
      ]
    },
    {
      "cell_type": "code",
      "metadata": {
        "id": "Wj8patFbVw8O",
        "colab_type": "code",
        "colab": {}
      },
      "source": [
        "import twitter\n",
        "import json\n",
        "import pandas as pd\n",
        "import re"
      ],
      "execution_count": 0,
      "outputs": []
    },
    {
      "cell_type": "code",
      "metadata": {
        "id": "RrgOrhB6R9CZ",
        "colab_type": "code",
        "colab": {}
      },
      "source": [
        "api = twitter.Api(consumer_key='xxxxxx',\n",
        "                  consumer_secret='xxxxxx',\n",
        "                  access_token_key='xxxxxx',\n",
        "                  access_token_secret='xxxxxx')"
      ],
      "execution_count": 0,
      "outputs": []
    },
    {
      "cell_type": "code",
      "metadata": {
        "id": "uFRUlpklWZzU",
        "colab_type": "code",
        "colab": {}
      },
      "source": [
        "arr_search = api.GetSearch('เที่ยว',count=100)"
      ],
      "execution_count": 0,
      "outputs": []
    },
    {
      "cell_type": "code",
      "metadata": {
        "id": "ZKuvsH_at_lo",
        "colab_type": "code",
        "colab": {}
      },
      "source": [
        "a = [json.loads(i.AsJsonString()) for i in arr_search]"
      ],
      "execution_count": 0,
      "outputs": []
    },
    {
      "cell_type": "code",
      "metadata": {
        "id": "jKPv54aku53h",
        "colab_type": "code",
        "outputId": "0d942762-e93f-4c9b-8b3c-f8668005df95",
        "colab": {
          "base_uri": "https://localhost:8080/",
          "height": 564
        }
      },
      "source": [
        "df = pd.DataFrame(a)\n",
        "#pd.to_datetime(df.created_at)\n",
        "df.head()"
      ],
      "execution_count": 77,
      "outputs": [
        {
          "output_type": "execute_result",
          "data": {
            "text/html": [
              "<div>\n",
              "<style scoped>\n",
              "    .dataframe tbody tr th:only-of-type {\n",
              "        vertical-align: middle;\n",
              "    }\n",
              "\n",
              "    .dataframe tbody tr th {\n",
              "        vertical-align: top;\n",
              "    }\n",
              "\n",
              "    .dataframe thead th {\n",
              "        text-align: right;\n",
              "    }\n",
              "</style>\n",
              "<table border=\"1\" class=\"dataframe\">\n",
              "  <thead>\n",
              "    <tr style=\"text-align: right;\">\n",
              "      <th></th>\n",
              "      <th>created_at</th>\n",
              "      <th>favorite_count</th>\n",
              "      <th>hashtags</th>\n",
              "      <th>id</th>\n",
              "      <th>id_str</th>\n",
              "      <th>in_reply_to_screen_name</th>\n",
              "      <th>in_reply_to_status_id</th>\n",
              "      <th>in_reply_to_user_id</th>\n",
              "      <th>lang</th>\n",
              "      <th>retweet_count</th>\n",
              "      <th>source</th>\n",
              "      <th>text</th>\n",
              "      <th>truncated</th>\n",
              "      <th>urls</th>\n",
              "      <th>user</th>\n",
              "      <th>user_mentions</th>\n",
              "      <th>media</th>\n",
              "      <th>retweeted_status</th>\n",
              "      <th>quoted_status_id</th>\n",
              "      <th>quoted_status_id_str</th>\n",
              "      <th>possibly_sensitive</th>\n",
              "    </tr>\n",
              "  </thead>\n",
              "  <tbody>\n",
              "    <tr>\n",
              "      <th>0</th>\n",
              "      <td>Fri May 29 05:26:15 +0000 2020</td>\n",
              "      <td>121.0</td>\n",
              "      <td>[{'text': 'โควิด19'}]</td>\n",
              "      <td>1266239407876501506</td>\n",
              "      <td>1266239407876501506</td>\n",
              "      <td>mthai</td>\n",
              "      <td>1.266239e+18</td>\n",
              "      <td>9594042.0</td>\n",
              "      <td>th</td>\n",
              "      <td>304.0</td>\n",
              "      <td>&lt;a href=\"https://mobile.twitter.com\" rel=\"nofo...</td>\n",
              "      <td>แถลงศูนย์ #โควิด19 29 พ.ค. 63\\n(ต่อ)\\n\\nกรณีกา...</td>\n",
              "      <td>True</td>\n",
              "      <td>[{'expanded_url': 'https://twitter.com/i/web/s...</td>\n",
              "      <td>{'created_at': 'Mon Oct 22 09:16:14 +0000 2007...</td>\n",
              "      <td>[]</td>\n",
              "      <td>NaN</td>\n",
              "      <td>NaN</td>\n",
              "      <td>NaN</td>\n",
              "      <td>NaN</td>\n",
              "      <td>NaN</td>\n",
              "    </tr>\n",
              "    <tr>\n",
              "      <th>1</th>\n",
              "      <td>Thu May 28 00:00:31 +0000 2020</td>\n",
              "      <td>229.0</td>\n",
              "      <td>[{'text': 'แดนเนรมิต'}]</td>\n",
              "      <td>1265795046755962887</td>\n",
              "      <td>1265795046755962887</td>\n",
              "      <td>NaN</td>\n",
              "      <td>NaN</td>\n",
              "      <td>NaN</td>\n",
              "      <td>th</td>\n",
              "      <td>348.0</td>\n",
              "      <td>&lt;a href=\"https://www.hootsuite.com\" rel=\"nofol...</td>\n",
              "      <td>28 พฤษภาคม 2543\\n#แดนเนรมิต ปิดให้บริการอย่างเ...</td>\n",
              "      <td>True</td>\n",
              "      <td>[{'expanded_url': 'https://twitter.com/i/web/s...</td>\n",
              "      <td>{'created_at': 'Wed Feb 22 03:28:00 +0000 2017...</td>\n",
              "      <td>[]</td>\n",
              "      <td>NaN</td>\n",
              "      <td>NaN</td>\n",
              "      <td>NaN</td>\n",
              "      <td>NaN</td>\n",
              "      <td>NaN</td>\n",
              "    </tr>\n",
              "    <tr>\n",
              "      <th>2</th>\n",
              "      <td>Thu May 28 13:28:00 +0000 2020</td>\n",
              "      <td>149.0</td>\n",
              "      <td>[]</td>\n",
              "      <td>1265998257060102146</td>\n",
              "      <td>1265998257060102146</td>\n",
              "      <td>NaN</td>\n",
              "      <td>NaN</td>\n",
              "      <td>NaN</td>\n",
              "      <td>th</td>\n",
              "      <td>179.0</td>\n",
              "      <td>&lt;a href=\"https://about.twitter.com/products/tw...</td>\n",
              "      <td>พิพิธภัณฑ์ที่น่าสนใจทั่วโลก พร้อมใจกันเปิดให้เ...</td>\n",
              "      <td>True</td>\n",
              "      <td>[{'expanded_url': 'https://twitter.com/i/web/s...</td>\n",
              "      <td>{'created_at': 'Mon Jun 27 09:53:13 +0000 2016...</td>\n",
              "      <td>[]</td>\n",
              "      <td>NaN</td>\n",
              "      <td>NaN</td>\n",
              "      <td>NaN</td>\n",
              "      <td>NaN</td>\n",
              "      <td>NaN</td>\n",
              "    </tr>\n",
              "    <tr>\n",
              "      <th>3</th>\n",
              "      <td>Fri May 29 20:26:16 +0000 2020</td>\n",
              "      <td>NaN</td>\n",
              "      <td>[]</td>\n",
              "      <td>1266465907276038149</td>\n",
              "      <td>1266465907276038149</td>\n",
              "      <td>NaN</td>\n",
              "      <td>NaN</td>\n",
              "      <td>NaN</td>\n",
              "      <td>th</td>\n",
              "      <td>NaN</td>\n",
              "      <td>&lt;a href=\"http://twitter.com/download/android\" ...</td>\n",
              "      <td>ป่ะไปเที่ยวกัน https://t.co/T5vxyXyMQG</td>\n",
              "      <td>NaN</td>\n",
              "      <td>[]</td>\n",
              "      <td>{'created_at': 'Thu Apr 02 03:42:44 +0000 2020...</td>\n",
              "      <td>[]</td>\n",
              "      <td>[{'display_url': 'pic.twitter.com/T5vxyXyMQG',...</td>\n",
              "      <td>NaN</td>\n",
              "      <td>NaN</td>\n",
              "      <td>NaN</td>\n",
              "      <td>NaN</td>\n",
              "    </tr>\n",
              "    <tr>\n",
              "      <th>4</th>\n",
              "      <td>Fri May 29 20:26:13 +0000 2020</td>\n",
              "      <td>NaN</td>\n",
              "      <td>[]</td>\n",
              "      <td>1266465894617640963</td>\n",
              "      <td>1266465894617640963</td>\n",
              "      <td>NaN</td>\n",
              "      <td>NaN</td>\n",
              "      <td>NaN</td>\n",
              "      <td>th</td>\n",
              "      <td>4460.0</td>\n",
              "      <td>&lt;a href=\"http://twitter.com/download/iphone\" r...</td>\n",
              "      <td>RT @Psolemn: แจกค้าบบ\\n\\n1 โพราลอยด์จาก Fuji แ...</td>\n",
              "      <td>NaN</td>\n",
              "      <td>[]</td>\n",
              "      <td>{'created_at': 'Sun Dec 13 03:45:05 +0000 2009...</td>\n",
              "      <td>[{'id': 198714960, 'id_str': '198714960', 'nam...</td>\n",
              "      <td>NaN</td>\n",
              "      <td>{'created_at': 'Fri May 29 16:11:23 +0000 2020...</td>\n",
              "      <td>NaN</td>\n",
              "      <td>NaN</td>\n",
              "      <td>NaN</td>\n",
              "    </tr>\n",
              "  </tbody>\n",
              "</table>\n",
              "</div>"
            ],
            "text/plain": [
              "                       created_at  ...  possibly_sensitive\n",
              "0  Fri May 29 05:26:15 +0000 2020  ...                 NaN\n",
              "1  Thu May 28 00:00:31 +0000 2020  ...                 NaN\n",
              "2  Thu May 28 13:28:00 +0000 2020  ...                 NaN\n",
              "3  Fri May 29 20:26:16 +0000 2020  ...                 NaN\n",
              "4  Fri May 29 20:26:13 +0000 2020  ...                 NaN\n",
              "\n",
              "[5 rows x 21 columns]"
            ]
          },
          "metadata": {
            "tags": []
          },
          "execution_count": 77
        }
      ]
    },
    {
      "cell_type": "code",
      "metadata": {
        "id": "2It_hQOWLtjp",
        "colab_type": "code",
        "colab": {}
      },
      "source": [
        "arr_text = df.text.values"
      ],
      "execution_count": 0,
      "outputs": []
    },
    {
      "cell_type": "code",
      "metadata": {
        "id": "2aEbpHhwN6H6",
        "colab_type": "code",
        "colab": {}
      },
      "source": [
        "import pickle\n",
        "from google.colab import drive"
      ],
      "execution_count": 0,
      "outputs": []
    },
    {
      "cell_type": "code",
      "metadata": {
        "id": "W1ylIw8nVtsw",
        "colab_type": "code",
        "colab": {
          "base_uri": "https://localhost:8080/",
          "height": 122
        },
        "outputId": "f55bc688-3c49-4751-c3b2-8a2adb313809"
      },
      "source": [
        "drive.mount('/content/drive')\n",
        "!mkdir -p '/content/drive/My Drive/Training/SocialNetwork'\n",
        "DATA_PATH = \"/content/drive/My Drive/Training/SocialNetwork\""
      ],
      "execution_count": 9,
      "outputs": [
        {
          "output_type": "stream",
          "text": [
            "Go to this URL in a browser: https://accounts.google.com/o/oauth2/auth?client_id=947318989803-6bn6qk8qdgf4n4g3pfee6491hc0brc4i.apps.googleusercontent.com&redirect_uri=urn%3aietf%3awg%3aoauth%3a2.0%3aoob&response_type=code&scope=email%20https%3a%2f%2fwww.googleapis.com%2fauth%2fdocs.test%20https%3a%2f%2fwww.googleapis.com%2fauth%2fdrive%20https%3a%2f%2fwww.googleapis.com%2fauth%2fdrive.photos.readonly%20https%3a%2f%2fwww.googleapis.com%2fauth%2fpeopleapi.readonly\n",
            "\n",
            "Enter your authorization code:\n",
            "··········\n",
            "Mounted at /content/drive\n"
          ],
          "name": "stdout"
        }
      ]
    },
    {
      "cell_type": "code",
      "metadata": {
        "id": "hK17jAdoS-mx",
        "colab_type": "code",
        "colab": {}
      },
      "source": [
        "with open(DATA_PATH + '/arr_text_Raw.pickle', 'wb') as f:\n",
        "    pickle.dump(arr_text, f)"
      ],
      "execution_count": 0,
      "outputs": []
    },
    {
      "cell_type": "code",
      "metadata": {
        "id": "ClhwgSOrWj92",
        "colab_type": "code",
        "colab": {
          "base_uri": "https://localhost:8080/",
          "height": 221
        },
        "outputId": "0261b7c8-eeed-4dfa-c227-00d6ed2f4f52"
      },
      "source": [
        "df.text"
      ],
      "execution_count": 11,
      "outputs": [
        {
          "output_type": "execute_result",
          "data": {
            "text/plain": [
              "0     แถลงศูนย์ #โควิด19 29 พ.ค. 63\\n(ต่อ)\\n\\nกรณีกา...\n",
              "1     28 พฤษภาคม 2543\\n#แดนเนรมิต ปิดให้บริการอย่างเ...\n",
              "2     พิพิธภัณฑ์ที่น่าสนใจทั่วโลก พร้อมใจกันเปิดให้เ...\n",
              "3     RT @Amadare_no_Uta: @prxanime ส่วนความฝันเราคื...\n",
              "4     RT @Psolemn: แจกค้าบบ\\n\\n1 โพราลอยด์จาก Fuji แ...\n",
              "                            ...                        \n",
              "95    RT @fhaarraariiii: รีวิวแฟนละกัน ได้เจอคนที่อย...\n",
              "96    RT @wanwannxx: น้องแบมชวนพี่โดอุนไปเที่ยวบ้านอ...\n",
              "97    RT @Sarabim_bim: อยากเจอพวกเขาทั้งสองคนมากๆเลย...\n",
              "98    RT @fhaarraariiii: รีวิวแฟนละกัน ได้เจอคนที่อย...\n",
              "99                             เมื่อไหร่กุจะได้ไปเที่ยว\n",
              "Name: text, Length: 100, dtype: object"
            ]
          },
          "metadata": {
            "tags": []
          },
          "execution_count": 11
        }
      ]
    },
    {
      "cell_type": "code",
      "metadata": {
        "id": "8g6Zki_lnUfv",
        "colab_type": "code",
        "colab": {}
      },
      "source": [
        "#HappyEmoticons\n",
        "emoticons_happy = set([\n",
        "    ':-)', ':)', ';)', ':o)', ':]', ':3', ':c)', ':>', '=]', '8)', '=)', ':}',\n",
        "    ':^)', ':-D', ':D', '8-D', '8D', 'x-D', 'xD', 'X-D', 'XD', '=-D', '=D',\n",
        "    '=-3', '=3', ':-))', \":'-)\", \":')\", ':*', ':^*', '>:P', ':-P', ':P', 'X-P',\n",
        "    'x-p', 'xp', 'XP', ':-p', ':p', '=p', ':-b', ':b', '>:)', '>;)', '>:-)',\n",
        "    '<3'\n",
        "    ])"
      ],
      "execution_count": 0,
      "outputs": []
    },
    {
      "cell_type": "code",
      "metadata": {
        "id": "sKlMCSbd_iqi",
        "colab_type": "code",
        "colab": {}
      },
      "source": [
        "# Sad Emoticons\n",
        "emoticons_sad = set([\n",
        "    ':L', ':-/', '>:/', ':S', '>:[', ':@', ':-(', ':[', ':-||', '=L', ':<',\n",
        "    ':-[', ':-<', '=\\\\', '=/', '>:(', ':(', '>.<', \":'-(\", \":'(\", ':\\\\', ':-c',\n",
        "    ':c', ':{', '>:\\\\', ';('\n",
        "    ])"
      ],
      "execution_count": 0,
      "outputs": []
    },
    {
      "cell_type": "code",
      "metadata": {
        "id": "6FT0W5lW_o9W",
        "colab_type": "code",
        "colab": {}
      },
      "source": [
        "#Emoji patterns\n",
        "emoji_pattern = re.compile(\"[\"\n",
        "         u\"\\U0001F600-\\U0001F64F\"  # emoticons\n",
        "         u\"\\U0001F300-\\U0001F5FF\"  # symbols & pictographs\n",
        "         u\"\\U0001F680-\\U0001F6FF\"  # transport & map symbols\n",
        "         u\"\\U0001F1E0-\\U0001F1FF\"  # flags (iOS)\n",
        "         u\"\\U00002702-\\U000027B0\"\n",
        "         u\"\\U000024C2-\\U0001F251\"\n",
        "         \"]+\", flags=re.UNICODE)"
      ],
      "execution_count": 0,
      "outputs": []
    },
    {
      "cell_type": "code",
      "metadata": {
        "id": "jScR8zWa_u5t",
        "colab_type": "code",
        "colab": {}
      },
      "source": [
        "emoticons = emoticons_happy.union(emoticons_sad)"
      ],
      "execution_count": 0,
      "outputs": []
    },
    {
      "cell_type": "code",
      "metadata": {
        "id": "85n9BV9SAOzt",
        "colab_type": "code",
        "colab": {
          "base_uri": "https://localhost:8080/",
          "height": 105
        },
        "outputId": "adc2e4b9-efe9-4780-90a3-7367e512b837"
      },
      "source": [
        "!pip install tweet-preprocessor"
      ],
      "execution_count": 20,
      "outputs": [
        {
          "output_type": "stream",
          "text": [
            "Collecting tweet-preprocessor\n",
            "  Downloading https://files.pythonhosted.org/packages/17/9d/71bd016a9edcef8860c607e531f30bd09b13103c7951ae73dd2bf174163c/tweet_preprocessor-0.6.0-py3-none-any.whl\n",
            "Installing collected packages: tweet-preprocessor\n",
            "Successfully installed tweet-preprocessor-0.6.0\n"
          ],
          "name": "stdout"
        }
      ]
    },
    {
      "cell_type": "code",
      "metadata": {
        "id": "WrNSb4oh_6lO",
        "colab_type": "code",
        "colab": {}
      },
      "source": [
        "import preprocessor as p"
      ],
      "execution_count": 0,
      "outputs": []
    },
    {
      "cell_type": "code",
      "metadata": {
        "id": "zxyBS1rCANmE",
        "colab_type": "code",
        "colab": {
          "base_uri": "https://localhost:8080/",
          "height": 68
        },
        "outputId": "9aa154dc-f5ca-470b-ac8e-db47abb7b24a"
      },
      "source": [
        "clean_text = p.clean(arr_text[2])\n",
        "print(arr_text[2])\n",
        "print(\"\")\n",
        "print(clean_text)"
      ],
      "execution_count": 25,
      "outputs": [
        {
          "output_type": "stream",
          "text": [
            "พิพิธภัณฑ์ที่น่าสนใจทั่วโลก พร้อมใจกันเปิดให้เราเข้าเที่ยวชมแล้วในแบบออนไลน์ (virtual tours) ใครอยากไปเที่ยวเล่นที่… https://t.co/SIPuuGnaNk\n",
            "\n",
            "(virtual tours)\n"
          ],
          "name": "stdout"
        }
      ]
    },
    {
      "cell_type": "code",
      "metadata": {
        "id": "v1Lq33iKBH87",
        "colab_type": "code",
        "colab": {
          "base_uri": "https://localhost:8080/",
          "height": 1000
        },
        "outputId": "a08fa69a-410b-4953-f817-ef7af0141d1a"
      },
      "source": [
        "!pip install pythainlp \n",
        "!pip install deepcut"
      ],
      "execution_count": 27,
      "outputs": [
        {
          "output_type": "stream",
          "text": [
            "Collecting pythainlp\n",
            "\u001b[?25l  Downloading https://files.pythonhosted.org/packages/cb/14/b80930a2cc09ed6b5f8a22da9be6ece56939839ae66d921d9c7123034ba0/pythainlp-2.1.4-py3-none-any.whl (11.1MB)\n",
            "\u001b[K     |████████████████████████████████| 11.1MB 2.7MB/s \n",
            "\u001b[?25hRequirement already satisfied: requests>=2.22.0 in /usr/local/lib/python3.6/dist-packages (from pythainlp) (2.23.0)\n",
            "Requirement already satisfied: dill>=0.3.0 in /usr/local/lib/python3.6/dist-packages (from pythainlp) (0.3.1.1)\n",
            "Collecting tinydb>=3.0\n",
            "  Downloading https://files.pythonhosted.org/packages/b6/f6/b3e112addc8eb4a097f158124ce8b206767361a381f80c5f0c506d855e4a/tinydb-4.1.1-py3-none-any.whl\n",
            "Requirement already satisfied: tqdm>=4.1 in /usr/local/lib/python3.6/dist-packages (from pythainlp) (4.41.1)\n",
            "Collecting nltk>=3.3\n",
            "\u001b[?25l  Downloading https://files.pythonhosted.org/packages/92/75/ce35194d8e3022203cca0d2f896dbb88689f9b3fce8e9f9cff942913519d/nltk-3.5.zip (1.4MB)\n",
            "\u001b[K     |████████████████████████████████| 1.4MB 48.2MB/s \n",
            "\u001b[?25hRequirement already satisfied: chardet<4,>=3.0.2 in /usr/local/lib/python3.6/dist-packages (from requests>=2.22.0->pythainlp) (3.0.4)\n",
            "Requirement already satisfied: certifi>=2017.4.17 in /usr/local/lib/python3.6/dist-packages (from requests>=2.22.0->pythainlp) (2020.4.5.1)\n",
            "Requirement already satisfied: idna<3,>=2.5 in /usr/local/lib/python3.6/dist-packages (from requests>=2.22.0->pythainlp) (2.9)\n",
            "Requirement already satisfied: urllib3!=1.25.0,!=1.25.1,<1.26,>=1.21.1 in /usr/local/lib/python3.6/dist-packages (from requests>=2.22.0->pythainlp) (1.24.3)\n",
            "Requirement already satisfied: click in /usr/local/lib/python3.6/dist-packages (from nltk>=3.3->pythainlp) (7.1.2)\n",
            "Requirement already satisfied: joblib in /usr/local/lib/python3.6/dist-packages (from nltk>=3.3->pythainlp) (0.15.1)\n",
            "Requirement already satisfied: regex in /usr/local/lib/python3.6/dist-packages (from nltk>=3.3->pythainlp) (2019.12.20)\n",
            "Building wheels for collected packages: nltk\n",
            "  Building wheel for nltk (setup.py) ... \u001b[?25l\u001b[?25hdone\n",
            "  Created wheel for nltk: filename=nltk-3.5-cp36-none-any.whl size=1434674 sha256=43d46227a8cd361626a536d6bf52f995617837014136dfe649fa484c067f3343\n",
            "  Stored in directory: /root/.cache/pip/wheels/ae/8c/3f/b1fe0ba04555b08b57ab52ab7f86023639a526d8bc8d384306\n",
            "Successfully built nltk\n",
            "Installing collected packages: tinydb, nltk, pythainlp\n",
            "  Found existing installation: nltk 3.2.5\n",
            "    Uninstalling nltk-3.2.5:\n",
            "      Successfully uninstalled nltk-3.2.5\n",
            "Successfully installed nltk-3.5 pythainlp-2.1.4 tinydb-4.1.1\n",
            "Collecting deepcut\n",
            "\u001b[?25l  Downloading https://files.pythonhosted.org/packages/ef/f3/ecda1d7dc51da0689b2df3d002541d0d04ac4db02c5d148eca48c8e3d219/deepcut-0.7.0.0-py3-none-any.whl (2.0MB)\n",
            "\u001b[K     |████████████████████████████████| 2.0MB 2.7MB/s \n",
            "\u001b[?25hRequirement already satisfied: scikit-learn in /usr/local/lib/python3.6/dist-packages (from deepcut) (0.22.2.post1)\n",
            "Requirement already satisfied: scipy in /usr/local/lib/python3.6/dist-packages (from deepcut) (1.4.1)\n",
            "Requirement already satisfied: h5py in /usr/local/lib/python3.6/dist-packages (from deepcut) (2.10.0)\n",
            "Requirement already satisfied: pandas in /usr/local/lib/python3.6/dist-packages (from deepcut) (1.0.3)\n",
            "Requirement already satisfied: numpy in /usr/local/lib/python3.6/dist-packages (from deepcut) (1.18.4)\n",
            "Requirement already satisfied: tensorflow>=2.0.0 in /usr/local/lib/python3.6/dist-packages (from deepcut) (2.2.0)\n",
            "Requirement already satisfied: joblib>=0.11 in /usr/local/lib/python3.6/dist-packages (from scikit-learn->deepcut) (0.15.1)\n",
            "Requirement already satisfied: six in /usr/local/lib/python3.6/dist-packages (from h5py->deepcut) (1.12.0)\n",
            "Requirement already satisfied: pytz>=2017.2 in /usr/local/lib/python3.6/dist-packages (from pandas->deepcut) (2018.9)\n",
            "Requirement already satisfied: python-dateutil>=2.6.1 in /usr/local/lib/python3.6/dist-packages (from pandas->deepcut) (2.8.1)\n",
            "Requirement already satisfied: tensorflow-estimator<2.3.0,>=2.2.0 in /usr/local/lib/python3.6/dist-packages (from tensorflow>=2.0.0->deepcut) (2.2.0)\n",
            "Requirement already satisfied: gast==0.3.3 in /usr/local/lib/python3.6/dist-packages (from tensorflow>=2.0.0->deepcut) (0.3.3)\n",
            "Requirement already satisfied: grpcio>=1.8.6 in /usr/local/lib/python3.6/dist-packages (from tensorflow>=2.0.0->deepcut) (1.29.0)\n",
            "Requirement already satisfied: opt-einsum>=2.3.2 in /usr/local/lib/python3.6/dist-packages (from tensorflow>=2.0.0->deepcut) (3.2.1)\n",
            "Requirement already satisfied: absl-py>=0.7.0 in /usr/local/lib/python3.6/dist-packages (from tensorflow>=2.0.0->deepcut) (0.9.0)\n",
            "Requirement already satisfied: termcolor>=1.1.0 in /usr/local/lib/python3.6/dist-packages (from tensorflow>=2.0.0->deepcut) (1.1.0)\n",
            "Requirement already satisfied: wheel>=0.26; python_version >= \"3\" in /usr/local/lib/python3.6/dist-packages (from tensorflow>=2.0.0->deepcut) (0.34.2)\n",
            "Requirement already satisfied: protobuf>=3.8.0 in /usr/local/lib/python3.6/dist-packages (from tensorflow>=2.0.0->deepcut) (3.10.0)\n",
            "Requirement already satisfied: wrapt>=1.11.1 in /usr/local/lib/python3.6/dist-packages (from tensorflow>=2.0.0->deepcut) (1.12.1)\n",
            "Requirement already satisfied: google-pasta>=0.1.8 in /usr/local/lib/python3.6/dist-packages (from tensorflow>=2.0.0->deepcut) (0.2.0)\n",
            "Requirement already satisfied: tensorboard<2.3.0,>=2.2.0 in /usr/local/lib/python3.6/dist-packages (from tensorflow>=2.0.0->deepcut) (2.2.1)\n",
            "Requirement already satisfied: astunparse==1.6.3 in /usr/local/lib/python3.6/dist-packages (from tensorflow>=2.0.0->deepcut) (1.6.3)\n",
            "Requirement already satisfied: keras-preprocessing>=1.1.0 in /usr/local/lib/python3.6/dist-packages (from tensorflow>=2.0.0->deepcut) (1.1.2)\n",
            "Requirement already satisfied: setuptools in /usr/local/lib/python3.6/dist-packages (from protobuf>=3.8.0->tensorflow>=2.0.0->deepcut) (46.4.0)\n",
            "Requirement already satisfied: google-auth<2,>=1.6.3 in /usr/local/lib/python3.6/dist-packages (from tensorboard<2.3.0,>=2.2.0->tensorflow>=2.0.0->deepcut) (1.7.2)\n",
            "Requirement already satisfied: werkzeug>=0.11.15 in /usr/local/lib/python3.6/dist-packages (from tensorboard<2.3.0,>=2.2.0->tensorflow>=2.0.0->deepcut) (1.0.1)\n",
            "Requirement already satisfied: requests<3,>=2.21.0 in /usr/local/lib/python3.6/dist-packages (from tensorboard<2.3.0,>=2.2.0->tensorflow>=2.0.0->deepcut) (2.23.0)\n",
            "Requirement already satisfied: tensorboard-plugin-wit>=1.6.0 in /usr/local/lib/python3.6/dist-packages (from tensorboard<2.3.0,>=2.2.0->tensorflow>=2.0.0->deepcut) (1.6.0.post3)\n",
            "Requirement already satisfied: google-auth-oauthlib<0.5,>=0.4.1 in /usr/local/lib/python3.6/dist-packages (from tensorboard<2.3.0,>=2.2.0->tensorflow>=2.0.0->deepcut) (0.4.1)\n",
            "Requirement already satisfied: markdown>=2.6.8 in /usr/local/lib/python3.6/dist-packages (from tensorboard<2.3.0,>=2.2.0->tensorflow>=2.0.0->deepcut) (3.2.2)\n",
            "Requirement already satisfied: rsa<4.1,>=3.1.4 in /usr/local/lib/python3.6/dist-packages (from google-auth<2,>=1.6.3->tensorboard<2.3.0,>=2.2.0->tensorflow>=2.0.0->deepcut) (4.0)\n",
            "Requirement already satisfied: cachetools<3.2,>=2.0.0 in /usr/local/lib/python3.6/dist-packages (from google-auth<2,>=1.6.3->tensorboard<2.3.0,>=2.2.0->tensorflow>=2.0.0->deepcut) (3.1.1)\n",
            "Requirement already satisfied: pyasn1-modules>=0.2.1 in /usr/local/lib/python3.6/dist-packages (from google-auth<2,>=1.6.3->tensorboard<2.3.0,>=2.2.0->tensorflow>=2.0.0->deepcut) (0.2.8)\n",
            "Requirement already satisfied: urllib3!=1.25.0,!=1.25.1,<1.26,>=1.21.1 in /usr/local/lib/python3.6/dist-packages (from requests<3,>=2.21.0->tensorboard<2.3.0,>=2.2.0->tensorflow>=2.0.0->deepcut) (1.24.3)\n",
            "Requirement already satisfied: certifi>=2017.4.17 in /usr/local/lib/python3.6/dist-packages (from requests<3,>=2.21.0->tensorboard<2.3.0,>=2.2.0->tensorflow>=2.0.0->deepcut) (2020.4.5.1)\n",
            "Requirement already satisfied: idna<3,>=2.5 in /usr/local/lib/python3.6/dist-packages (from requests<3,>=2.21.0->tensorboard<2.3.0,>=2.2.0->tensorflow>=2.0.0->deepcut) (2.9)\n",
            "Requirement already satisfied: chardet<4,>=3.0.2 in /usr/local/lib/python3.6/dist-packages (from requests<3,>=2.21.0->tensorboard<2.3.0,>=2.2.0->tensorflow>=2.0.0->deepcut) (3.0.4)\n",
            "Requirement already satisfied: requests-oauthlib>=0.7.0 in /usr/local/lib/python3.6/dist-packages (from google-auth-oauthlib<0.5,>=0.4.1->tensorboard<2.3.0,>=2.2.0->tensorflow>=2.0.0->deepcut) (1.3.0)\n",
            "Requirement already satisfied: importlib-metadata; python_version < \"3.8\" in /usr/local/lib/python3.6/dist-packages (from markdown>=2.6.8->tensorboard<2.3.0,>=2.2.0->tensorflow>=2.0.0->deepcut) (1.6.0)\n",
            "Requirement already satisfied: pyasn1>=0.1.3 in /usr/local/lib/python3.6/dist-packages (from rsa<4.1,>=3.1.4->google-auth<2,>=1.6.3->tensorboard<2.3.0,>=2.2.0->tensorflow>=2.0.0->deepcut) (0.4.8)\n",
            "Requirement already satisfied: oauthlib>=3.0.0 in /usr/local/lib/python3.6/dist-packages (from requests-oauthlib>=0.7.0->google-auth-oauthlib<0.5,>=0.4.1->tensorboard<2.3.0,>=2.2.0->tensorflow>=2.0.0->deepcut) (3.1.0)\n",
            "Requirement already satisfied: zipp>=0.5 in /usr/local/lib/python3.6/dist-packages (from importlib-metadata; python_version < \"3.8\"->markdown>=2.6.8->tensorboard<2.3.0,>=2.2.0->tensorflow>=2.0.0->deepcut) (3.1.0)\n",
            "Installing collected packages: deepcut\n",
            "Successfully installed deepcut-0.7.0.0\n"
          ],
          "name": "stdout"
        }
      ]
    },
    {
      "cell_type": "code",
      "metadata": {
        "id": "4zJNCd25BlJV",
        "colab_type": "code",
        "colab": {}
      },
      "source": [
        "import deepcut\n",
        "import nltk\n",
        "from nltk.corpus import stopwords"
      ],
      "execution_count": 0,
      "outputs": []
    },
    {
      "cell_type": "code",
      "metadata": {
        "id": "mu9tcxX3AjC3",
        "colab_type": "code",
        "colab": {}
      },
      "source": [
        "def clean_tweets(tweet):\n",
        "    stop_words = [\" \"]\n",
        "    word_tokens = tweet.split(\" \")\n",
        "#after tweepy preprocessing the colon symbol left remain after      #removing mentions\n",
        "    tweet = re.sub(r':', '', tweet)\n",
        "    tweet = re.sub(r'‚Ä¶', '', tweet)\n",
        "    tweet = re.sub(r\"RT\", '', tweet)\n",
        "    tweet = re.sub(r\"\\n\", '', tweet)\n",
        "    #print(tweet)\n",
        "#replace consecutive non-ASCII characters with a space\n",
        "#    tweet = re.sub(r'[^\\x00-\\x7F]+',' ', tweet)\n",
        "#remove emojis from tweet\n",
        "    tweet = emoji_pattern.sub(r'', tweet)\n",
        "#filter using NLTK library append it to a string\n",
        "#    filtered_tweet = [w for w in word_tokens if not w in stop_words]\n",
        "#    filtered_tweet = []\n",
        "#looping through conditions\n",
        "#    for w in word_tokens:\n",
        "#check tokens against stop words , emoticons and punctuations\n",
        "#        if w not in stop_words and w not in emoticons:\n",
        "#            filtered_tweet.append(w)\n",
        "#    return ' '.join(filtered_tweet)\n",
        "    #print(word_tokens)\n",
        "    #print(filtered_sentence)\n",
        "    return tweet"
      ],
      "execution_count": 0,
      "outputs": []
    },
    {
      "cell_type": "code",
      "metadata": {
        "id": "cyVN01dfA3fP",
        "colab_type": "code",
        "colab": {}
      },
      "source": [
        "df.text = df.text.apply(clean_tweets)"
      ],
      "execution_count": 0,
      "outputs": []
    },
    {
      "cell_type": "code",
      "metadata": {
        "id": "T5NPDNj6CIFY",
        "colab_type": "code",
        "colab": {
          "base_uri": "https://localhost:8080/",
          "height": 1000
        },
        "outputId": "bec84ae2-db55-484c-b2a1-0d9e67ec0287"
      },
      "source": [
        "df"
      ],
      "execution_count": 79,
      "outputs": [
        {
          "output_type": "execute_result",
          "data": {
            "text/html": [
              "<div>\n",
              "<style scoped>\n",
              "    .dataframe tbody tr th:only-of-type {\n",
              "        vertical-align: middle;\n",
              "    }\n",
              "\n",
              "    .dataframe tbody tr th {\n",
              "        vertical-align: top;\n",
              "    }\n",
              "\n",
              "    .dataframe thead th {\n",
              "        text-align: right;\n",
              "    }\n",
              "</style>\n",
              "<table border=\"1\" class=\"dataframe\">\n",
              "  <thead>\n",
              "    <tr style=\"text-align: right;\">\n",
              "      <th></th>\n",
              "      <th>created_at</th>\n",
              "      <th>favorite_count</th>\n",
              "      <th>hashtags</th>\n",
              "      <th>id</th>\n",
              "      <th>id_str</th>\n",
              "      <th>in_reply_to_screen_name</th>\n",
              "      <th>in_reply_to_status_id</th>\n",
              "      <th>in_reply_to_user_id</th>\n",
              "      <th>lang</th>\n",
              "      <th>retweet_count</th>\n",
              "      <th>source</th>\n",
              "      <th>text</th>\n",
              "      <th>truncated</th>\n",
              "      <th>urls</th>\n",
              "      <th>user</th>\n",
              "      <th>user_mentions</th>\n",
              "      <th>media</th>\n",
              "      <th>retweeted_status</th>\n",
              "      <th>quoted_status_id</th>\n",
              "      <th>quoted_status_id_str</th>\n",
              "      <th>possibly_sensitive</th>\n",
              "    </tr>\n",
              "  </thead>\n",
              "  <tbody>\n",
              "    <tr>\n",
              "      <th>0</th>\n",
              "      <td>Fri May 29 05:26:15 +0000 2020</td>\n",
              "      <td>121.0</td>\n",
              "      <td>[{'text': 'โควิด19'}]</td>\n",
              "      <td>1266239407876501506</td>\n",
              "      <td>1266239407876501506</td>\n",
              "      <td>mthai</td>\n",
              "      <td>1.266239e+18</td>\n",
              "      <td>9594042.0</td>\n",
              "      <td>th</td>\n",
              "      <td>304.0</td>\n",
              "      <td>&lt;a href=\"https://mobile.twitter.com\" rel=\"nofo...</td>\n",
              "      <td>แถลงศูนย์ #โควิด19 29 พ.ค. 63(ต่อ)กรณีการเดินท...</td>\n",
              "      <td>True</td>\n",
              "      <td>[{'expanded_url': 'https://twitter.com/i/web/s...</td>\n",
              "      <td>{'created_at': 'Mon Oct 22 09:16:14 +0000 2007...</td>\n",
              "      <td>[]</td>\n",
              "      <td>NaN</td>\n",
              "      <td>NaN</td>\n",
              "      <td>NaN</td>\n",
              "      <td>NaN</td>\n",
              "      <td>NaN</td>\n",
              "    </tr>\n",
              "    <tr>\n",
              "      <th>1</th>\n",
              "      <td>Thu May 28 00:00:31 +0000 2020</td>\n",
              "      <td>229.0</td>\n",
              "      <td>[{'text': 'แดนเนรมิต'}]</td>\n",
              "      <td>1265795046755962887</td>\n",
              "      <td>1265795046755962887</td>\n",
              "      <td>NaN</td>\n",
              "      <td>NaN</td>\n",
              "      <td>NaN</td>\n",
              "      <td>th</td>\n",
              "      <td>348.0</td>\n",
              "      <td>&lt;a href=\"https://www.hootsuite.com\" rel=\"nofol...</td>\n",
              "      <td>28 พฤษภาคม 2543#แดนเนรมิต ปิดให้บริการอย่างเป็...</td>\n",
              "      <td>True</td>\n",
              "      <td>[{'expanded_url': 'https://twitter.com/i/web/s...</td>\n",
              "      <td>{'created_at': 'Wed Feb 22 03:28:00 +0000 2017...</td>\n",
              "      <td>[]</td>\n",
              "      <td>NaN</td>\n",
              "      <td>NaN</td>\n",
              "      <td>NaN</td>\n",
              "      <td>NaN</td>\n",
              "      <td>NaN</td>\n",
              "    </tr>\n",
              "    <tr>\n",
              "      <th>2</th>\n",
              "      <td>Thu May 28 13:28:00 +0000 2020</td>\n",
              "      <td>149.0</td>\n",
              "      <td>[]</td>\n",
              "      <td>1265998257060102146</td>\n",
              "      <td>1265998257060102146</td>\n",
              "      <td>NaN</td>\n",
              "      <td>NaN</td>\n",
              "      <td>NaN</td>\n",
              "      <td>th</td>\n",
              "      <td>179.0</td>\n",
              "      <td>&lt;a href=\"https://about.twitter.com/products/tw...</td>\n",
              "      <td>พิพิธภัณฑ์ที่น่าสนใจทั่วโลก พร้อมใจกันเปิดให้เ...</td>\n",
              "      <td>True</td>\n",
              "      <td>[{'expanded_url': 'https://twitter.com/i/web/s...</td>\n",
              "      <td>{'created_at': 'Mon Jun 27 09:53:13 +0000 2016...</td>\n",
              "      <td>[]</td>\n",
              "      <td>NaN</td>\n",
              "      <td>NaN</td>\n",
              "      <td>NaN</td>\n",
              "      <td>NaN</td>\n",
              "      <td>NaN</td>\n",
              "    </tr>\n",
              "    <tr>\n",
              "      <th>3</th>\n",
              "      <td>Fri May 29 20:26:16 +0000 2020</td>\n",
              "      <td>NaN</td>\n",
              "      <td>[]</td>\n",
              "      <td>1266465907276038149</td>\n",
              "      <td>1266465907276038149</td>\n",
              "      <td>NaN</td>\n",
              "      <td>NaN</td>\n",
              "      <td>NaN</td>\n",
              "      <td>th</td>\n",
              "      <td>NaN</td>\n",
              "      <td>&lt;a href=\"http://twitter.com/download/android\" ...</td>\n",
              "      <td>ป่ะไปเที่ยวกัน https//t.co/T5vxyXyMQG</td>\n",
              "      <td>NaN</td>\n",
              "      <td>[]</td>\n",
              "      <td>{'created_at': 'Thu Apr 02 03:42:44 +0000 2020...</td>\n",
              "      <td>[]</td>\n",
              "      <td>[{'display_url': 'pic.twitter.com/T5vxyXyMQG',...</td>\n",
              "      <td>NaN</td>\n",
              "      <td>NaN</td>\n",
              "      <td>NaN</td>\n",
              "      <td>NaN</td>\n",
              "    </tr>\n",
              "    <tr>\n",
              "      <th>4</th>\n",
              "      <td>Fri May 29 20:26:13 +0000 2020</td>\n",
              "      <td>NaN</td>\n",
              "      <td>[]</td>\n",
              "      <td>1266465894617640963</td>\n",
              "      <td>1266465894617640963</td>\n",
              "      <td>NaN</td>\n",
              "      <td>NaN</td>\n",
              "      <td>NaN</td>\n",
              "      <td>th</td>\n",
              "      <td>4460.0</td>\n",
              "      <td>&lt;a href=\"http://twitter.com/download/iphone\" r...</td>\n",
              "      <td>@Psolemn แจกค้าบบ1 โพราลอยด์จาก Fuji และ 5 กล...</td>\n",
              "      <td>NaN</td>\n",
              "      <td>[]</td>\n",
              "      <td>{'created_at': 'Sun Dec 13 03:45:05 +0000 2009...</td>\n",
              "      <td>[{'id': 198714960, 'id_str': '198714960', 'nam...</td>\n",
              "      <td>NaN</td>\n",
              "      <td>{'created_at': 'Fri May 29 16:11:23 +0000 2020...</td>\n",
              "      <td>NaN</td>\n",
              "      <td>NaN</td>\n",
              "      <td>NaN</td>\n",
              "    </tr>\n",
              "    <tr>\n",
              "      <th>...</th>\n",
              "      <td>...</td>\n",
              "      <td>...</td>\n",
              "      <td>...</td>\n",
              "      <td>...</td>\n",
              "      <td>...</td>\n",
              "      <td>...</td>\n",
              "      <td>...</td>\n",
              "      <td>...</td>\n",
              "      <td>...</td>\n",
              "      <td>...</td>\n",
              "      <td>...</td>\n",
              "      <td>...</td>\n",
              "      <td>...</td>\n",
              "      <td>...</td>\n",
              "      <td>...</td>\n",
              "      <td>...</td>\n",
              "      <td>...</td>\n",
              "      <td>...</td>\n",
              "      <td>...</td>\n",
              "      <td>...</td>\n",
              "      <td>...</td>\n",
              "    </tr>\n",
              "    <tr>\n",
              "      <th>95</th>\n",
              "      <td>Fri May 29 20:13:35 +0000 2020</td>\n",
              "      <td>NaN</td>\n",
              "      <td>[]</td>\n",
              "      <td>1266462715158999040</td>\n",
              "      <td>1266462715158999040</td>\n",
              "      <td>NaN</td>\n",
              "      <td>NaN</td>\n",
              "      <td>NaN</td>\n",
              "      <td>th</td>\n",
              "      <td>155.0</td>\n",
              "      <td>&lt;a href=\"http://twitter.com/download/android\" ...</td>\n",
              "      <td>@MyIBig @Unicorn_ggk1278 อันนี้เราเคยอ่านมามี...</td>\n",
              "      <td>NaN</td>\n",
              "      <td>[]</td>\n",
              "      <td>{'created_at': 'Mon Jan 01 08:49:06 +0000 2018...</td>\n",
              "      <td>[{'id': 3802484593, 'id_str': '3802484593', 'n...</td>\n",
              "      <td>NaN</td>\n",
              "      <td>{'created_at': 'Fri May 29 10:01:42 +0000 2020...</td>\n",
              "      <td>NaN</td>\n",
              "      <td>NaN</td>\n",
              "      <td>NaN</td>\n",
              "    </tr>\n",
              "    <tr>\n",
              "      <th>96</th>\n",
              "      <td>Fri May 29 20:13:34 +0000 2020</td>\n",
              "      <td>NaN</td>\n",
              "      <td>[]</td>\n",
              "      <td>1266462710213931008</td>\n",
              "      <td>1266462710213931008</td>\n",
              "      <td>NaN</td>\n",
              "      <td>NaN</td>\n",
              "      <td>NaN</td>\n",
              "      <td>th</td>\n",
              "      <td>4460.0</td>\n",
              "      <td>&lt;a href=\"http://twitter.com/download/android\" ...</td>\n",
              "      <td>@Psolemn แจกค้าบบ1 โพราลอยด์จาก Fuji และ 5 กล...</td>\n",
              "      <td>NaN</td>\n",
              "      <td>[]</td>\n",
              "      <td>{'created_at': 'Thu Sep 08 13:38:08 +0000 2016...</td>\n",
              "      <td>[{'id': 198714960, 'id_str': '198714960', 'nam...</td>\n",
              "      <td>NaN</td>\n",
              "      <td>{'created_at': 'Fri May 29 16:11:23 +0000 2020...</td>\n",
              "      <td>NaN</td>\n",
              "      <td>NaN</td>\n",
              "      <td>NaN</td>\n",
              "    </tr>\n",
              "    <tr>\n",
              "      <th>97</th>\n",
              "      <td>Fri May 29 20:13:32 +0000 2020</td>\n",
              "      <td>NaN</td>\n",
              "      <td>[]</td>\n",
              "      <td>1266462703293431819</td>\n",
              "      <td>1266462703293431819</td>\n",
              "      <td>surreaIbutnice</td>\n",
              "      <td>1.266462e+18</td>\n",
              "      <td>103561832.0</td>\n",
              "      <td>th</td>\n",
              "      <td>NaN</td>\n",
              "      <td>&lt;a href=\"http://twitter.com/download/iphone\" r...</td>\n",
              "      <td>ฟีลน่าสงสารแต่ไม่ต้องมาสงสารเน้อ555 ถ้าขอความช...</td>\n",
              "      <td>True</td>\n",
              "      <td>[{'expanded_url': 'https://twitter.com/i/web/s...</td>\n",
              "      <td>{'created_at': 'Sun Jan 10 12:55:13 +0000 2010...</td>\n",
              "      <td>[]</td>\n",
              "      <td>NaN</td>\n",
              "      <td>NaN</td>\n",
              "      <td>NaN</td>\n",
              "      <td>NaN</td>\n",
              "      <td>NaN</td>\n",
              "    </tr>\n",
              "    <tr>\n",
              "      <th>98</th>\n",
              "      <td>Fri May 29 20:13:12 +0000 2020</td>\n",
              "      <td>NaN</td>\n",
              "      <td>[]</td>\n",
              "      <td>1266462616672747520</td>\n",
              "      <td>1266462616672747520</td>\n",
              "      <td>NaN</td>\n",
              "      <td>NaN</td>\n",
              "      <td>NaN</td>\n",
              "      <td>th</td>\n",
              "      <td>96.0</td>\n",
              "      <td>&lt;a href=\"http://twitter.com/download/iphone\" r...</td>\n",
              "      <td>@Little_frog95 Q  คุณเหมือนจะเข้ากันได้ดีกับด...</td>\n",
              "      <td>NaN</td>\n",
              "      <td>[]</td>\n",
              "      <td>{'created_at': 'Sat Apr 23 07:51:08 +0000 2016...</td>\n",
              "      <td>[{'id': 307848095, 'id_str': '307848095', 'nam...</td>\n",
              "      <td>NaN</td>\n",
              "      <td>{'created_at': 'Tue May 26 09:48:56 +0000 2020...</td>\n",
              "      <td>NaN</td>\n",
              "      <td>NaN</td>\n",
              "      <td>NaN</td>\n",
              "    </tr>\n",
              "    <tr>\n",
              "      <th>99</th>\n",
              "      <td>Fri May 29 20:12:54 +0000 2020</td>\n",
              "      <td>NaN</td>\n",
              "      <td>[]</td>\n",
              "      <td>1266462541921861632</td>\n",
              "      <td>1266462541921861632</td>\n",
              "      <td>NaN</td>\n",
              "      <td>NaN</td>\n",
              "      <td>NaN</td>\n",
              "      <td>th</td>\n",
              "      <td>1027.0</td>\n",
              "      <td>&lt;a href=\"http://twitter.com/download/iphone\" r...</td>\n",
              "      <td>@fhaarraariiii รีวิวแฟนละกัน ได้เจอคนที่อยู่ด...</td>\n",
              "      <td>NaN</td>\n",
              "      <td>[]</td>\n",
              "      <td>{'created_at': 'Tue Dec 06 12:53:30 +0000 2011...</td>\n",
              "      <td>[{'id': 779211411314515968, 'id_str': '7792114...</td>\n",
              "      <td>NaN</td>\n",
              "      <td>{'created_at': 'Fri May 29 16:29:38 +0000 2020...</td>\n",
              "      <td>NaN</td>\n",
              "      <td>NaN</td>\n",
              "      <td>NaN</td>\n",
              "    </tr>\n",
              "  </tbody>\n",
              "</table>\n",
              "<p>100 rows × 21 columns</p>\n",
              "</div>"
            ],
            "text/plain": [
              "                        created_at  ...  possibly_sensitive\n",
              "0   Fri May 29 05:26:15 +0000 2020  ...                 NaN\n",
              "1   Thu May 28 00:00:31 +0000 2020  ...                 NaN\n",
              "2   Thu May 28 13:28:00 +0000 2020  ...                 NaN\n",
              "3   Fri May 29 20:26:16 +0000 2020  ...                 NaN\n",
              "4   Fri May 29 20:26:13 +0000 2020  ...                 NaN\n",
              "..                             ...  ...                 ...\n",
              "95  Fri May 29 20:13:35 +0000 2020  ...                 NaN\n",
              "96  Fri May 29 20:13:34 +0000 2020  ...                 NaN\n",
              "97  Fri May 29 20:13:32 +0000 2020  ...                 NaN\n",
              "98  Fri May 29 20:13:12 +0000 2020  ...                 NaN\n",
              "99  Fri May 29 20:12:54 +0000 2020  ...                 NaN\n",
              "\n",
              "[100 rows x 21 columns]"
            ]
          },
          "metadata": {
            "tags": []
          },
          "execution_count": 79
        }
      ]
    },
    {
      "cell_type": "code",
      "metadata": {
        "id": "s6r1OrqnH57g",
        "colab_type": "code",
        "colab": {}
      },
      "source": [
        "from bs4 import BeautifulSoup\n",
        "def stripA(x):\n",
        "  soup = BeautifulSoup(x)\n",
        "  text = soup.get_text()\n",
        "  return text"
      ],
      "execution_count": 0,
      "outputs": []
    },
    {
      "cell_type": "code",
      "metadata": {
        "id": "qZEeTl-uIKpr",
        "colab_type": "code",
        "colab": {}
      },
      "source": [
        "df.source = df.source.apply(stripA)"
      ],
      "execution_count": 0,
      "outputs": []
    },
    {
      "cell_type": "code",
      "metadata": {
        "id": "3GOyhMugHCfN",
        "colab_type": "code",
        "colab": {}
      },
      "source": [
        "df.to_csv(\"./twitter.csv\")"
      ],
      "execution_count": 0,
      "outputs": []
    },
    {
      "cell_type": "code",
      "metadata": {
        "id": "yFAfpMeLHhm4",
        "colab_type": "code",
        "colab": {
          "base_uri": "https://localhost:8080/",
          "height": 564
        },
        "outputId": "b13c4b36-a1ed-4426-8d70-e7e111835880"
      },
      "source": [
        "df.head()"
      ],
      "execution_count": 84,
      "outputs": [
        {
          "output_type": "execute_result",
          "data": {
            "text/html": [
              "<div>\n",
              "<style scoped>\n",
              "    .dataframe tbody tr th:only-of-type {\n",
              "        vertical-align: middle;\n",
              "    }\n",
              "\n",
              "    .dataframe tbody tr th {\n",
              "        vertical-align: top;\n",
              "    }\n",
              "\n",
              "    .dataframe thead th {\n",
              "        text-align: right;\n",
              "    }\n",
              "</style>\n",
              "<table border=\"1\" class=\"dataframe\">\n",
              "  <thead>\n",
              "    <tr style=\"text-align: right;\">\n",
              "      <th></th>\n",
              "      <th>created_at</th>\n",
              "      <th>favorite_count</th>\n",
              "      <th>hashtags</th>\n",
              "      <th>id</th>\n",
              "      <th>id_str</th>\n",
              "      <th>in_reply_to_screen_name</th>\n",
              "      <th>in_reply_to_status_id</th>\n",
              "      <th>in_reply_to_user_id</th>\n",
              "      <th>lang</th>\n",
              "      <th>retweet_count</th>\n",
              "      <th>source</th>\n",
              "      <th>text</th>\n",
              "      <th>truncated</th>\n",
              "      <th>urls</th>\n",
              "      <th>user</th>\n",
              "      <th>user_mentions</th>\n",
              "      <th>media</th>\n",
              "      <th>retweeted_status</th>\n",
              "      <th>quoted_status_id</th>\n",
              "      <th>quoted_status_id_str</th>\n",
              "      <th>possibly_sensitive</th>\n",
              "    </tr>\n",
              "  </thead>\n",
              "  <tbody>\n",
              "    <tr>\n",
              "      <th>0</th>\n",
              "      <td>Fri May 29 05:26:15 +0000 2020</td>\n",
              "      <td>121.0</td>\n",
              "      <td>[{'text': 'โควิด19'}]</td>\n",
              "      <td>1266239407876501506</td>\n",
              "      <td>1266239407876501506</td>\n",
              "      <td>mthai</td>\n",
              "      <td>1.266239e+18</td>\n",
              "      <td>9594042.0</td>\n",
              "      <td>th</td>\n",
              "      <td>304.0</td>\n",
              "      <td>Twitter Web App</td>\n",
              "      <td>แถลงศูนย์ #โควิด19 29 พ.ค. 63(ต่อ)กรณีการเดินท...</td>\n",
              "      <td>True</td>\n",
              "      <td>[{'expanded_url': 'https://twitter.com/i/web/s...</td>\n",
              "      <td>{'created_at': 'Mon Oct 22 09:16:14 +0000 2007...</td>\n",
              "      <td>[]</td>\n",
              "      <td>NaN</td>\n",
              "      <td>NaN</td>\n",
              "      <td>NaN</td>\n",
              "      <td>NaN</td>\n",
              "      <td>NaN</td>\n",
              "    </tr>\n",
              "    <tr>\n",
              "      <th>1</th>\n",
              "      <td>Thu May 28 00:00:31 +0000 2020</td>\n",
              "      <td>229.0</td>\n",
              "      <td>[{'text': 'แดนเนรมิต'}]</td>\n",
              "      <td>1265795046755962887</td>\n",
              "      <td>1265795046755962887</td>\n",
              "      <td>NaN</td>\n",
              "      <td>NaN</td>\n",
              "      <td>NaN</td>\n",
              "      <td>th</td>\n",
              "      <td>348.0</td>\n",
              "      <td>Hootsuite Inc.</td>\n",
              "      <td>28 พฤษภาคม 2543#แดนเนรมิต ปิดให้บริการอย่างเป็...</td>\n",
              "      <td>True</td>\n",
              "      <td>[{'expanded_url': 'https://twitter.com/i/web/s...</td>\n",
              "      <td>{'created_at': 'Wed Feb 22 03:28:00 +0000 2017...</td>\n",
              "      <td>[]</td>\n",
              "      <td>NaN</td>\n",
              "      <td>NaN</td>\n",
              "      <td>NaN</td>\n",
              "      <td>NaN</td>\n",
              "      <td>NaN</td>\n",
              "    </tr>\n",
              "    <tr>\n",
              "      <th>2</th>\n",
              "      <td>Thu May 28 13:28:00 +0000 2020</td>\n",
              "      <td>149.0</td>\n",
              "      <td>[]</td>\n",
              "      <td>1265998257060102146</td>\n",
              "      <td>1265998257060102146</td>\n",
              "      <td>NaN</td>\n",
              "      <td>NaN</td>\n",
              "      <td>NaN</td>\n",
              "      <td>th</td>\n",
              "      <td>179.0</td>\n",
              "      <td>TweetDeck</td>\n",
              "      <td>พิพิธภัณฑ์ที่น่าสนใจทั่วโลก พร้อมใจกันเปิดให้เ...</td>\n",
              "      <td>True</td>\n",
              "      <td>[{'expanded_url': 'https://twitter.com/i/web/s...</td>\n",
              "      <td>{'created_at': 'Mon Jun 27 09:53:13 +0000 2016...</td>\n",
              "      <td>[]</td>\n",
              "      <td>NaN</td>\n",
              "      <td>NaN</td>\n",
              "      <td>NaN</td>\n",
              "      <td>NaN</td>\n",
              "      <td>NaN</td>\n",
              "    </tr>\n",
              "    <tr>\n",
              "      <th>3</th>\n",
              "      <td>Fri May 29 20:26:16 +0000 2020</td>\n",
              "      <td>NaN</td>\n",
              "      <td>[]</td>\n",
              "      <td>1266465907276038149</td>\n",
              "      <td>1266465907276038149</td>\n",
              "      <td>NaN</td>\n",
              "      <td>NaN</td>\n",
              "      <td>NaN</td>\n",
              "      <td>th</td>\n",
              "      <td>NaN</td>\n",
              "      <td>Twitter for Android</td>\n",
              "      <td>ป่ะไปเที่ยวกัน https//t.co/T5vxyXyMQG</td>\n",
              "      <td>NaN</td>\n",
              "      <td>[]</td>\n",
              "      <td>{'created_at': 'Thu Apr 02 03:42:44 +0000 2020...</td>\n",
              "      <td>[]</td>\n",
              "      <td>[{'display_url': 'pic.twitter.com/T5vxyXyMQG',...</td>\n",
              "      <td>NaN</td>\n",
              "      <td>NaN</td>\n",
              "      <td>NaN</td>\n",
              "      <td>NaN</td>\n",
              "    </tr>\n",
              "    <tr>\n",
              "      <th>4</th>\n",
              "      <td>Fri May 29 20:26:13 +0000 2020</td>\n",
              "      <td>NaN</td>\n",
              "      <td>[]</td>\n",
              "      <td>1266465894617640963</td>\n",
              "      <td>1266465894617640963</td>\n",
              "      <td>NaN</td>\n",
              "      <td>NaN</td>\n",
              "      <td>NaN</td>\n",
              "      <td>th</td>\n",
              "      <td>4460.0</td>\n",
              "      <td>Twitter for iPhone</td>\n",
              "      <td>@Psolemn แจกค้าบบ1 โพราลอยด์จาก Fuji และ 5 กล...</td>\n",
              "      <td>NaN</td>\n",
              "      <td>[]</td>\n",
              "      <td>{'created_at': 'Sun Dec 13 03:45:05 +0000 2009...</td>\n",
              "      <td>[{'id': 198714960, 'id_str': '198714960', 'nam...</td>\n",
              "      <td>NaN</td>\n",
              "      <td>{'created_at': 'Fri May 29 16:11:23 +0000 2020...</td>\n",
              "      <td>NaN</td>\n",
              "      <td>NaN</td>\n",
              "      <td>NaN</td>\n",
              "    </tr>\n",
              "  </tbody>\n",
              "</table>\n",
              "</div>"
            ],
            "text/plain": [
              "                       created_at  ...  possibly_sensitive\n",
              "0  Fri May 29 05:26:15 +0000 2020  ...                 NaN\n",
              "1  Thu May 28 00:00:31 +0000 2020  ...                 NaN\n",
              "2  Thu May 28 13:28:00 +0000 2020  ...                 NaN\n",
              "3  Fri May 29 20:26:16 +0000 2020  ...                 NaN\n",
              "4  Fri May 29 20:26:13 +0000 2020  ...                 NaN\n",
              "\n",
              "[5 rows x 21 columns]"
            ]
          },
          "metadata": {
            "tags": []
          },
          "execution_count": 84
        }
      ]
    },
    {
      "cell_type": "code",
      "metadata": {
        "id": "0oy2o9NEIHGt",
        "colab_type": "code",
        "colab": {}
      },
      "source": [
        ""
      ],
      "execution_count": 0,
      "outputs": []
    }
  ]
}