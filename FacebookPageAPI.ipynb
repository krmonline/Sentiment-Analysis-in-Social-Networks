{
  "nbformat": 4,
  "nbformat_minor": 0,
  "metadata": {
    "colab": {
      "name": "FacebookPageAPI.ipynb",
      "provenance": [],
      "authorship_tag": "ABX9TyOwrnZadCOpcTZEp4bPJvky",
      "include_colab_link": true
    },
    "kernelspec": {
      "name": "python3",
      "display_name": "Python 3"
    }
  },
  "cells": [
    {
      "cell_type": "markdown",
      "metadata": {
        "id": "view-in-github",
        "colab_type": "text"
      },
      "source": [
        "<a href=\"https://colab.research.google.com/github/krmonline/Sentiment-Analysis-in-Social-Networks/blob/master/FacebookPageAPI.ipynb\" target=\"_parent\"><img src=\"https://colab.research.google.com/assets/colab-badge.svg\" alt=\"Open In Colab\"/></a>"
      ]
    },
    {
      "cell_type": "code",
      "metadata": {
        "id": "FaMLwxbHLX2k",
        "colab_type": "code",
        "colab": {
          "base_uri": "https://localhost:8080/",
          "height": 170
        },
        "outputId": "026e69a1-10d9-4d39-cfac-0f32be2e5b53"
      },
      "source": [
        "!pip install facebook-sdk"
      ],
      "execution_count": 1,
      "outputs": [
        {
          "output_type": "stream",
          "text": [
            "Collecting facebook-sdk\n",
            "  Downloading https://files.pythonhosted.org/packages/79/d7/4cb0f5930f79205cc45db22e17fa716396d813c3d6b8d5de77783a5fa59a/facebook_sdk-3.1.0-py2.py3-none-any.whl\n",
            "Requirement already satisfied: requests in /usr/local/lib/python3.6/dist-packages (from facebook-sdk) (2.23.0)\n",
            "Requirement already satisfied: certifi>=2017.4.17 in /usr/local/lib/python3.6/dist-packages (from requests->facebook-sdk) (2020.4.5.1)\n",
            "Requirement already satisfied: urllib3!=1.25.0,!=1.25.1,<1.26,>=1.21.1 in /usr/local/lib/python3.6/dist-packages (from requests->facebook-sdk) (1.24.3)\n",
            "Requirement already satisfied: chardet<4,>=3.0.2 in /usr/local/lib/python3.6/dist-packages (from requests->facebook-sdk) (3.0.4)\n",
            "Requirement already satisfied: idna<3,>=2.5 in /usr/local/lib/python3.6/dist-packages (from requests->facebook-sdk) (2.9)\n",
            "Installing collected packages: facebook-sdk\n",
            "Successfully installed facebook-sdk-3.1.0\n"
          ],
          "name": "stdout"
        }
      ]
    },
    {
      "cell_type": "code",
      "metadata": {
        "id": "MAJJJxMOLjq9",
        "colab_type": "code",
        "colab": {}
      },
      "source": [
        "import facebook\n",
        "import json\n",
        "import pandas as pd"
      ],
      "execution_count": 0,
      "outputs": []
    },
    {
      "cell_type": "code",
      "metadata": {
        "id": "-f3GRjyfMFj0",
        "colab_type": "code",
        "colab": {}
      },
      "source": [
        "graph = facebook.GraphAPI(access_token=\"EAADf23dcOQgBALfp8KWeZBJEcdHikkRWSv6Wxn18vuA0uwrDc39kEvlxRbH6IBmngNJnCqWFDfdafvFQY4ZCloW8oVPVgoZBC8aJKOLZBRlgbbDZB0uqwwAzM1ikHWX2w7YEcdMpLkSiVHs6O8LEwieq3ZAOyJ5opoAzBjKVtmWTZAC57hiIkAFXSDyJ69s69zTlze7QnXo5AZDZD\")"
      ],
      "execution_count": 0,
      "outputs": []
    },
    {
      "cell_type": "code",
      "metadata": {
        "id": "4pHvjvHvMK0s",
        "colab_type": "code",
        "colab": {
          "base_uri": "https://localhost:8080/",
          "height": 436
        },
        "outputId": "9d710587-251b-4cfa-e00d-47906c8d1ab8"
      },
      "source": [
        "loop_count = 0\n",
        "df_comments = pd.DataFrame(columns=['id','from','message'])\n",
        "df = pd.DataFrame(columns=['id','created_time','message','comments'])\n",
        "js = graph.get_object(id='softnixtech/posts',fields='message,story,created_time,id,comments')\n",
        "countloop = 0\n",
        "while('paging' in js):\n",
        "  countloop = countloop + 1\n",
        "  if countloop > 5:\n",
        "    break\n",
        "  loop_count = loop_count+1\n",
        "  print(loop_count,end=\" \")\n",
        "  if 'next' in js['paging']:\n",
        "    arr_page = {}\n",
        "    for kv in js['paging']['next'].split(\"?\")[1].split(\"&\"):\n",
        "      k,v = kv.split(\"=\")\n",
        "      arr_page[k] = v\n",
        "    after = arr_page['after']\n",
        "    js = graph.get_object(id='softnixtech/posts',fields='message,story,created_time,id,comments',after=after)\n",
        "    dftmp = pd.DataFrame(js['data'],columns=['id','created_time','message','comments'])\n",
        "\n",
        "    df = pd.concat([df,dftmp],ignore_index=True)\n",
        "df"
      ],
      "execution_count": 7,
      "outputs": [
        {
          "output_type": "stream",
          "text": [
            "1 2 3 4 5 "
          ],
          "name": "stdout"
        },
        {
          "output_type": "execute_result",
          "data": {
            "text/html": [
              "<div>\n",
              "<style scoped>\n",
              "    .dataframe tbody tr th:only-of-type {\n",
              "        vertical-align: middle;\n",
              "    }\n",
              "\n",
              "    .dataframe tbody tr th {\n",
              "        vertical-align: top;\n",
              "    }\n",
              "\n",
              "    .dataframe thead th {\n",
              "        text-align: right;\n",
              "    }\n",
              "</style>\n",
              "<table border=\"1\" class=\"dataframe\">\n",
              "  <thead>\n",
              "    <tr style=\"text-align: right;\">\n",
              "      <th></th>\n",
              "      <th>id</th>\n",
              "      <th>created_time</th>\n",
              "      <th>message</th>\n",
              "      <th>comments</th>\n",
              "    </tr>\n",
              "  </thead>\n",
              "  <tbody>\n",
              "    <tr>\n",
              "      <th>0</th>\n",
              "      <td>162423635476_441168406599447</td>\n",
              "      <td>2019-11-29T03:11:03+0000</td>\n",
              "      <td>Deep Talk ตอนที่ 1 ว่าด้วยเรื่อง การนำ Machine...</td>\n",
              "      <td>NaN</td>\n",
              "    </tr>\n",
              "    <tr>\n",
              "      <th>1</th>\n",
              "      <td>162423635476_10157768232795477</td>\n",
              "      <td>2019-11-29T01:22:33+0000</td>\n",
              "      <td>Deep Talk ตอนที่ 1 ว่าด้วยเรื่องการนำ Machine ...</td>\n",
              "      <td>NaN</td>\n",
              "    </tr>\n",
              "    <tr>\n",
              "      <th>2</th>\n",
              "      <td>162423635476_2627961090614054</td>\n",
              "      <td>2019-11-28T04:39:10+0000</td>\n",
              "      <td>แนะนำการนำศาสตร์ของการวิเคราะห์ข้อมูลบิ๊กดาต้า...</td>\n",
              "      <td>NaN</td>\n",
              "    </tr>\n",
              "    <tr>\n",
              "      <th>3</th>\n",
              "      <td>162423635476_10157763031545477</td>\n",
              "      <td>2019-11-27T06:11:10+0000</td>\n",
              "      <td>แนะนำบูธ Softnix ที่งาน CDIC 2019</td>\n",
              "      <td>NaN</td>\n",
              "    </tr>\n",
              "    <tr>\n",
              "      <th>4</th>\n",
              "      <td>162423635476_10157760612950477</td>\n",
              "      <td>2019-11-26T12:39:35+0000</td>\n",
              "      <td>ผ่านไปแล้วกับงาน CDIC 2019 วันแรก พรุ่งนี้ยังม...</td>\n",
              "      <td>{'data': [{'created_time': '2019-11-26T12:48:4...</td>\n",
              "    </tr>\n",
              "    <tr>\n",
              "      <th>...</th>\n",
              "      <td>...</td>\n",
              "      <td>...</td>\n",
              "      <td>...</td>\n",
              "      <td>...</td>\n",
              "    </tr>\n",
              "    <tr>\n",
              "      <th>120</th>\n",
              "      <td>162423635476_10156644130255477</td>\n",
              "      <td>2018-09-11T03:43:52+0000</td>\n",
              "      <td>Data Governance กับ โครงการ Big Data มันสำคัญอ...</td>\n",
              "      <td>NaN</td>\n",
              "    </tr>\n",
              "    <tr>\n",
              "      <th>121</th>\n",
              "      <td>162423635476_10156643881250477</td>\n",
              "      <td>2018-09-11T01:14:09+0000</td>\n",
              "      <td>อับเดทเนื้อหาบทความ ความรู้เกี่ยวกับ Microserv...</td>\n",
              "      <td>NaN</td>\n",
              "    </tr>\n",
              "    <tr>\n",
              "      <th>122</th>\n",
              "      <td>162423635476_10156632456500477</td>\n",
              "      <td>2018-09-06T09:00:31+0000</td>\n",
              "      <td>วันนี้ทีมงาน Softnix มีบทความด้าน Data Analyti...</td>\n",
              "      <td>NaN</td>\n",
              "    </tr>\n",
              "    <tr>\n",
              "      <th>123</th>\n",
              "      <td>162423635476_10156630341570477</td>\n",
              "      <td>2018-09-05T10:42:07+0000</td>\n",
              "      <td>ขอแจ้งประชาสัมพันธ์ข่าวการรับสมัครงานสำหรับแฟน...</td>\n",
              "      <td>{'data': [{'created_time': '2018-09-05T10:47:0...</td>\n",
              "    </tr>\n",
              "    <tr>\n",
              "      <th>124</th>\n",
              "      <td>162423635476_10156630012890477</td>\n",
              "      <td>2018-09-05T05:42:23+0000</td>\n",
              "      <td>มาดูความหมายของ MPP Database เทคโนโลยี Databas...</td>\n",
              "      <td>NaN</td>\n",
              "    </tr>\n",
              "  </tbody>\n",
              "</table>\n",
              "<p>125 rows × 4 columns</p>\n",
              "</div>"
            ],
            "text/plain": [
              "                                 id  ...                                           comments\n",
              "0      162423635476_441168406599447  ...                                                NaN\n",
              "1    162423635476_10157768232795477  ...                                                NaN\n",
              "2     162423635476_2627961090614054  ...                                                NaN\n",
              "3    162423635476_10157763031545477  ...                                                NaN\n",
              "4    162423635476_10157760612950477  ...  {'data': [{'created_time': '2019-11-26T12:48:4...\n",
              "..                              ...  ...                                                ...\n",
              "120  162423635476_10156644130255477  ...                                                NaN\n",
              "121  162423635476_10156643881250477  ...                                                NaN\n",
              "122  162423635476_10156632456500477  ...                                                NaN\n",
              "123  162423635476_10156630341570477  ...  {'data': [{'created_time': '2018-09-05T10:47:0...\n",
              "124  162423635476_10156630012890477  ...                                                NaN\n",
              "\n",
              "[125 rows x 4 columns]"
            ]
          },
          "metadata": {
            "tags": []
          },
          "execution_count": 7
        }
      ]
    },
    {
      "cell_type": "code",
      "metadata": {
        "id": "C1bSeHKiMt3W",
        "colab_type": "code",
        "colab": {}
      },
      "source": [
        "def getMIDfromDF(x):\n",
        "  return x.split('_')[1]"
      ],
      "execution_count": 0,
      "outputs": []
    },
    {
      "cell_type": "code",
      "metadata": {
        "id": "ZSEBQFgDNmBb",
        "colab_type": "code",
        "colab": {}
      },
      "source": [
        "df['mid'] = df.id.apply(getMIDfromDF)"
      ],
      "execution_count": 0,
      "outputs": []
    },
    {
      "cell_type": "code",
      "metadata": {
        "id": "54eOlidrNrt8",
        "colab_type": "code",
        "colab": {}
      },
      "source": [
        "if len(df[df.comments.isna() == False]) > 0:\n",
        "  for i in  df[df.comments.isna() == False].comments.values:\n",
        "    text = i['data']\n",
        "    dftmp_comments = pd.DataFrame(i['data'],columns=['id','from','message'])\n",
        "    df_comments = pd.concat([df_comments,dftmp_comments],ignore_index=True)"
      ],
      "execution_count": 0,
      "outputs": []
    },
    {
      "cell_type": "code",
      "metadata": {
        "id": "4rKVIhusNttD",
        "colab_type": "code",
        "colab": {
          "base_uri": "https://localhost:8080/",
          "height": 419
        },
        "outputId": "aab92aa3-91b1-40fe-ef6b-bf6e6ce34cb2"
      },
      "source": [
        "df_comments"
      ],
      "execution_count": 11,
      "outputs": [
        {
          "output_type": "execute_result",
          "data": {
            "text/html": [
              "<div>\n",
              "<style scoped>\n",
              "    .dataframe tbody tr th:only-of-type {\n",
              "        vertical-align: middle;\n",
              "    }\n",
              "\n",
              "    .dataframe tbody tr th {\n",
              "        vertical-align: top;\n",
              "    }\n",
              "\n",
              "    .dataframe thead th {\n",
              "        text-align: right;\n",
              "    }\n",
              "</style>\n",
              "<table border=\"1\" class=\"dataframe\">\n",
              "  <thead>\n",
              "    <tr style=\"text-align: right;\">\n",
              "      <th></th>\n",
              "      <th>id</th>\n",
              "      <th>from</th>\n",
              "      <th>message</th>\n",
              "    </tr>\n",
              "  </thead>\n",
              "  <tbody>\n",
              "    <tr>\n",
              "      <th>0</th>\n",
              "      <td>10157760612950477_10157760628495477</td>\n",
              "      <td>NaN</td>\n",
              "      <td>มีให้ฟังย้อนหลังไหมครับ</td>\n",
              "    </tr>\n",
              "    <tr>\n",
              "      <th>1</th>\n",
              "      <td>10157716613265477_10157717656375477</td>\n",
              "      <td>NaN</td>\n",
              "      <td></td>\n",
              "    </tr>\n",
              "    <tr>\n",
              "      <th>2</th>\n",
              "      <td>10157578214210477_10157579595310477</td>\n",
              "      <td>NaN</td>\n",
              "      <td>เยี่ยมมาก</td>\n",
              "    </tr>\n",
              "    <tr>\n",
              "      <th>3</th>\n",
              "      <td>760219634397284_760237327728848</td>\n",
              "      <td>{'name': 'Softnix', 'id': '162423635476'}</td>\n",
              "      <td>ใครมีคำถามสามารถฝากมาได้เลยครับ</td>\n",
              "    </tr>\n",
              "    <tr>\n",
              "      <th>4</th>\n",
              "      <td>760219634397284_760257901060124</td>\n",
              "      <td>NaN</td>\n",
              "      <td>อยากทราบตัวอย่าง used cases ต่าง ๆ ของ anomaly...</td>\n",
              "    </tr>\n",
              "    <tr>\n",
              "      <th>...</th>\n",
              "      <td>...</td>\n",
              "      <td>...</td>\n",
              "      <td>...</td>\n",
              "    </tr>\n",
              "    <tr>\n",
              "      <th>64</th>\n",
              "      <td>2116637725047263_2116639891713713</td>\n",
              "      <td>NaN</td>\n",
              "      <td>😍</td>\n",
              "    </tr>\n",
              "    <tr>\n",
              "      <th>65</th>\n",
              "      <td>2116637725047263_2126147057429663</td>\n",
              "      <td>NaN</td>\n",
              "      <td>👍</td>\n",
              "    </tr>\n",
              "    <tr>\n",
              "      <th>66</th>\n",
              "      <td>2116637725047263_2116646745046361</td>\n",
              "      <td>NaN</td>\n",
              "      <td>เสียงขาดครับ</td>\n",
              "    </tr>\n",
              "    <tr>\n",
              "      <th>67</th>\n",
              "      <td>2116637725047263_2119988848045484</td>\n",
              "      <td>NaN</td>\n",
              "      <td>ทักทาย</td>\n",
              "    </tr>\n",
              "    <tr>\n",
              "      <th>68</th>\n",
              "      <td>10156630341570477_10156630346600477</td>\n",
              "      <td>NaN</td>\n",
              "      <td>SE ประจำที่นี้หรือเปล่าครับ\\n\\nสำนักงานใหญ่ 73...</td>\n",
              "    </tr>\n",
              "  </tbody>\n",
              "</table>\n",
              "<p>69 rows × 3 columns</p>\n",
              "</div>"
            ],
            "text/plain": [
              "                                     id  ...                                            message\n",
              "0   10157760612950477_10157760628495477  ...                            มีให้ฟังย้อนหลังไหมครับ\n",
              "1   10157716613265477_10157717656375477  ...                                                   \n",
              "2   10157578214210477_10157579595310477  ...                                          เยี่ยมมาก\n",
              "3       760219634397284_760237327728848  ...                    ใครมีคำถามสามารถฝากมาได้เลยครับ\n",
              "4       760219634397284_760257901060124  ...  อยากทราบตัวอย่าง used cases ต่าง ๆ ของ anomaly...\n",
              "..                                  ...  ...                                                ...\n",
              "64    2116637725047263_2116639891713713  ...                                                  😍\n",
              "65    2116637725047263_2126147057429663  ...                                                  👍\n",
              "66    2116637725047263_2116646745046361  ...                                       เสียงขาดครับ\n",
              "67    2116637725047263_2119988848045484  ...                                             ทักทาย\n",
              "68  10156630341570477_10156630346600477  ...  SE ประจำที่นี้หรือเปล่าครับ\\n\\nสำนักงานใหญ่ 73...\n",
              "\n",
              "[69 rows x 3 columns]"
            ]
          },
          "metadata": {
            "tags": []
          },
          "execution_count": 11
        }
      ]
    },
    {
      "cell_type": "code",
      "metadata": {
        "id": "DvoovwnoNvcR",
        "colab_type": "code",
        "colab": {}
      },
      "source": [
        "def getMID(x):\n",
        "  return x.split('_')[0]\n",
        "def getCID(x):\n",
        "  return x.split('_')[1]\n",
        "def getUserComment(x):\n",
        "  if x != \"\":\n",
        "    return str(x['name'])\n",
        "  return \"\""
      ],
      "execution_count": 0,
      "outputs": []
    },
    {
      "cell_type": "code",
      "metadata": {
        "id": "hIfzv8gvNy2r",
        "colab_type": "code",
        "colab": {}
      },
      "source": [
        "df_comments['mid'] = df_comments.id.apply(getMID)\n",
        "df_comments['cid'] = df_comments.id.apply(getCID)\n",
        "#df_comments['cname'] = df_comments['from'].apply(getUserComment)"
      ],
      "execution_count": 0,
      "outputs": []
    },
    {
      "cell_type": "code",
      "metadata": {
        "id": "FA6JGM4oN08e",
        "colab_type": "code",
        "colab": {}
      },
      "source": [
        "df_result = pd.merge(df_comments,\n",
        "                 df[['id','created_time','message','mid']],\n",
        "                 on='mid', \n",
        "                 how='left')"
      ],
      "execution_count": 0,
      "outputs": []
    },
    {
      "cell_type": "code",
      "metadata": {
        "id": "w8Sw05USONJm",
        "colab_type": "code",
        "colab": {
          "base_uri": "https://localhost:8080/",
          "height": 1000
        },
        "outputId": "a6629fa9-07c4-40fd-8ed0-3b9e1d64a01e"
      },
      "source": [
        "df_result"
      ],
      "execution_count": 25,
      "outputs": [
        {
          "output_type": "execute_result",
          "data": {
            "text/html": [
              "<div>\n",
              "<style scoped>\n",
              "    .dataframe tbody tr th:only-of-type {\n",
              "        vertical-align: middle;\n",
              "    }\n",
              "\n",
              "    .dataframe tbody tr th {\n",
              "        vertical-align: top;\n",
              "    }\n",
              "\n",
              "    .dataframe thead th {\n",
              "        text-align: right;\n",
              "    }\n",
              "</style>\n",
              "<table border=\"1\" class=\"dataframe\">\n",
              "  <thead>\n",
              "    <tr style=\"text-align: right;\">\n",
              "      <th></th>\n",
              "      <th>id_x</th>\n",
              "      <th>from</th>\n",
              "      <th>message_x</th>\n",
              "      <th>mid</th>\n",
              "      <th>cid</th>\n",
              "      <th>id_y</th>\n",
              "      <th>created_time</th>\n",
              "      <th>message_y</th>\n",
              "    </tr>\n",
              "  </thead>\n",
              "  <tbody>\n",
              "    <tr>\n",
              "      <th>0</th>\n",
              "      <td>10157760612950477_10157760628495477</td>\n",
              "      <td>NaN</td>\n",
              "      <td>มีให้ฟังย้อนหลังไหมครับ</td>\n",
              "      <td>10157760612950477</td>\n",
              "      <td>10157760628495477</td>\n",
              "      <td>162423635476_10157760612950477</td>\n",
              "      <td>2019-11-26T12:39:35+0000</td>\n",
              "      <td>ผ่านไปแล้วกับงาน CDIC 2019 วันแรก พรุ่งนี้ยังม...</td>\n",
              "    </tr>\n",
              "    <tr>\n",
              "      <th>1</th>\n",
              "      <td>10157716613265477_10157717656375477</td>\n",
              "      <td>NaN</td>\n",
              "      <td></td>\n",
              "      <td>10157716613265477</td>\n",
              "      <td>10157717656375477</td>\n",
              "      <td>162423635476_10157716613265477</td>\n",
              "      <td>2019-11-12T03:01:31+0000</td>\n",
              "      <td>งานสัมมนา Show Khong Day on Stage เช้านี้มาอัป...</td>\n",
              "    </tr>\n",
              "    <tr>\n",
              "      <th>2</th>\n",
              "      <td>10157578214210477_10157579595310477</td>\n",
              "      <td>NaN</td>\n",
              "      <td>เยี่ยมมาก</td>\n",
              "      <td>10157578214210477</td>\n",
              "      <td>10157579595310477</td>\n",
              "      <td>162423635476_10157578214210477</td>\n",
              "      <td>2019-09-29T00:45:08+0000</td>\n",
              "      <td>Softnix เรามีโครงการสำหรับนักศึกษาฝึกงาน เรามี...</td>\n",
              "    </tr>\n",
              "    <tr>\n",
              "      <th>3</th>\n",
              "      <td>760219634397284_760237327728848</td>\n",
              "      <td>{'name': 'Softnix', 'id': '162423635476'}</td>\n",
              "      <td>ใครมีคำถามสามารถฝากมาได้เลยครับ</td>\n",
              "      <td>760219634397284</td>\n",
              "      <td>760237327728848</td>\n",
              "      <td>162423635476_760219634397284</td>\n",
              "      <td>2019-09-27T06:56:50+0000</td>\n",
              "      <td>\"โชว์ของเดย์\" เรื่อง Anomaly Detection</td>\n",
              "    </tr>\n",
              "    <tr>\n",
              "      <th>4</th>\n",
              "      <td>760219634397284_760257901060124</td>\n",
              "      <td>NaN</td>\n",
              "      <td>อยากทราบตัวอย่าง used cases ต่าง ๆ ของ anomaly...</td>\n",
              "      <td>760219634397284</td>\n",
              "      <td>760257901060124</td>\n",
              "      <td>162423635476_760219634397284</td>\n",
              "      <td>2019-09-27T06:56:50+0000</td>\n",
              "      <td>\"โชว์ของเดย์\" เรื่อง Anomaly Detection</td>\n",
              "    </tr>\n",
              "    <tr>\n",
              "      <th>...</th>\n",
              "      <td>...</td>\n",
              "      <td>...</td>\n",
              "      <td>...</td>\n",
              "      <td>...</td>\n",
              "      <td>...</td>\n",
              "      <td>...</td>\n",
              "      <td>...</td>\n",
              "      <td>...</td>\n",
              "    </tr>\n",
              "    <tr>\n",
              "      <th>64</th>\n",
              "      <td>2116637725047263_2116639891713713</td>\n",
              "      <td>NaN</td>\n",
              "      <td>😍</td>\n",
              "      <td>2116637725047263</td>\n",
              "      <td>2116639891713713</td>\n",
              "      <td>162423635476_2116637725047263</td>\n",
              "      <td>2018-09-18T06:54:58+0000</td>\n",
              "      <td>Data Governance กับ โครงการ Big Data มันสำคัญอ...</td>\n",
              "    </tr>\n",
              "    <tr>\n",
              "      <th>65</th>\n",
              "      <td>2116637725047263_2126147057429663</td>\n",
              "      <td>NaN</td>\n",
              "      <td>👍</td>\n",
              "      <td>2116637725047263</td>\n",
              "      <td>2126147057429663</td>\n",
              "      <td>162423635476_2116637725047263</td>\n",
              "      <td>2018-09-18T06:54:58+0000</td>\n",
              "      <td>Data Governance กับ โครงการ Big Data มันสำคัญอ...</td>\n",
              "    </tr>\n",
              "    <tr>\n",
              "      <th>66</th>\n",
              "      <td>2116637725047263_2116646745046361</td>\n",
              "      <td>NaN</td>\n",
              "      <td>เสียงขาดครับ</td>\n",
              "      <td>2116637725047263</td>\n",
              "      <td>2116646745046361</td>\n",
              "      <td>162423635476_2116637725047263</td>\n",
              "      <td>2018-09-18T06:54:58+0000</td>\n",
              "      <td>Data Governance กับ โครงการ Big Data มันสำคัญอ...</td>\n",
              "    </tr>\n",
              "    <tr>\n",
              "      <th>67</th>\n",
              "      <td>2116637725047263_2119988848045484</td>\n",
              "      <td>NaN</td>\n",
              "      <td>ทักทาย</td>\n",
              "      <td>2116637725047263</td>\n",
              "      <td>2119988848045484</td>\n",
              "      <td>162423635476_2116637725047263</td>\n",
              "      <td>2018-09-18T06:54:58+0000</td>\n",
              "      <td>Data Governance กับ โครงการ Big Data มันสำคัญอ...</td>\n",
              "    </tr>\n",
              "    <tr>\n",
              "      <th>68</th>\n",
              "      <td>10156630341570477_10156630346600477</td>\n",
              "      <td>NaN</td>\n",
              "      <td>SE ประจำที่นี้หรือเปล่าครับ\\n\\nสำนักงานใหญ่ 73...</td>\n",
              "      <td>10156630341570477</td>\n",
              "      <td>10156630346600477</td>\n",
              "      <td>162423635476_10156630341570477</td>\n",
              "      <td>2018-09-05T10:42:07+0000</td>\n",
              "      <td>ขอแจ้งประชาสัมพันธ์ข่าวการรับสมัครงานสำหรับแฟน...</td>\n",
              "    </tr>\n",
              "  </tbody>\n",
              "</table>\n",
              "<p>69 rows × 8 columns</p>\n",
              "</div>"
            ],
            "text/plain": [
              "                                   id_x  ...                                          message_y\n",
              "0   10157760612950477_10157760628495477  ...  ผ่านไปแล้วกับงาน CDIC 2019 วันแรก พรุ่งนี้ยังม...\n",
              "1   10157716613265477_10157717656375477  ...  งานสัมมนา Show Khong Day on Stage เช้านี้มาอัป...\n",
              "2   10157578214210477_10157579595310477  ...  Softnix เรามีโครงการสำหรับนักศึกษาฝึกงาน เรามี...\n",
              "3       760219634397284_760237327728848  ...             \"โชว์ของเดย์\" เรื่อง Anomaly Detection\n",
              "4       760219634397284_760257901060124  ...             \"โชว์ของเดย์\" เรื่อง Anomaly Detection\n",
              "..                                  ...  ...                                                ...\n",
              "64    2116637725047263_2116639891713713  ...  Data Governance กับ โครงการ Big Data มันสำคัญอ...\n",
              "65    2116637725047263_2126147057429663  ...  Data Governance กับ โครงการ Big Data มันสำคัญอ...\n",
              "66    2116637725047263_2116646745046361  ...  Data Governance กับ โครงการ Big Data มันสำคัญอ...\n",
              "67    2116637725047263_2119988848045484  ...  Data Governance กับ โครงการ Big Data มันสำคัญอ...\n",
              "68  10156630341570477_10156630346600477  ...  ขอแจ้งประชาสัมพันธ์ข่าวการรับสมัครงานสำหรับแฟน...\n",
              "\n",
              "[69 rows x 8 columns]"
            ]
          },
          "metadata": {
            "tags": []
          },
          "execution_count": 25
        }
      ]
    },
    {
      "cell_type": "code",
      "metadata": {
        "id": "DQdSjYcOOsND",
        "colab_type": "code",
        "colab": {}
      },
      "source": [
        "df_result.drop(['from'],axis=1).to_csv('./result.csv')"
      ],
      "execution_count": 0,
      "outputs": []
    },
    {
      "cell_type": "code",
      "metadata": {
        "id": "DZsqtW5eOwJD",
        "colab_type": "code",
        "colab": {
          "base_uri": "https://localhost:8080/",
          "height": 513
        },
        "outputId": "2aa9c40a-96f8-4a18-f6e6-0f41f6ce906c"
      },
      "source": [
        "!pip install pythainlp==1.7"
      ],
      "execution_count": 28,
      "outputs": [
        {
          "output_type": "stream",
          "text": [
            "Collecting pythainlp==1.7\n",
            "\u001b[?25l  Downloading https://files.pythonhosted.org/packages/5a/6a/7475103451ea5c9f2bbfacc64a94bb769abce6323bae55558c1043f24520/pythainlp-1.7.0-py3-none-any.whl (10.3MB)\n",
            "\u001b[K     |████████████████████████████████| 10.3MB 2.7MB/s \n",
            "\u001b[?25hCollecting marisa-trie\n",
            "\u001b[?25l  Downloading https://files.pythonhosted.org/packages/20/95/d23071d0992dabcb61c948fb118a90683193befc88c23e745b050a29e7db/marisa-trie-0.7.5.tar.gz (270kB)\n",
            "\u001b[K     |████████████████████████████████| 276kB 43.8MB/s \n",
            "\u001b[?25hRequirement already satisfied: dill in /usr/local/lib/python3.6/dist-packages (from pythainlp==1.7) (0.3.1.1)\n",
            "Collecting tinydb\n",
            "  Downloading https://files.pythonhosted.org/packages/b6/f6/b3e112addc8eb4a097f158124ce8b206767361a381f80c5f0c506d855e4a/tinydb-4.1.1-py3-none-any.whl\n",
            "Collecting conllu\n",
            "  Downloading https://files.pythonhosted.org/packages/66/0b/a8863b5c14aee200a13a0f8c28550fd0132e947ae88441c9f517eb84613b/conllu-3.0-py2.py3-none-any.whl\n",
            "Requirement already satisfied: nltk>=3.2.2 in /usr/local/lib/python3.6/dist-packages (from pythainlp==1.7) (3.2.5)\n",
            "Requirement already satisfied: pytz in /usr/local/lib/python3.6/dist-packages (from pythainlp==1.7) (2018.9)\n",
            "Requirement already satisfied: tqdm in /usr/local/lib/python3.6/dist-packages (from pythainlp==1.7) (4.41.1)\n",
            "Requirement already satisfied: six in /usr/local/lib/python3.6/dist-packages (from pythainlp==1.7) (1.12.0)\n",
            "Requirement already satisfied: future>=0.16.0 in /usr/local/lib/python3.6/dist-packages (from pythainlp==1.7) (0.16.0)\n",
            "Requirement already satisfied: requests in /usr/local/lib/python3.6/dist-packages (from pythainlp==1.7) (2.23.0)\n",
            "Requirement already satisfied: idna<3,>=2.5 in /usr/local/lib/python3.6/dist-packages (from requests->pythainlp==1.7) (2.9)\n",
            "Requirement already satisfied: certifi>=2017.4.17 in /usr/local/lib/python3.6/dist-packages (from requests->pythainlp==1.7) (2020.4.5.1)\n",
            "Requirement already satisfied: chardet<4,>=3.0.2 in /usr/local/lib/python3.6/dist-packages (from requests->pythainlp==1.7) (3.0.4)\n",
            "Requirement already satisfied: urllib3!=1.25.0,!=1.25.1,<1.26,>=1.21.1 in /usr/local/lib/python3.6/dist-packages (from requests->pythainlp==1.7) (1.24.3)\n",
            "Building wheels for collected packages: marisa-trie\n",
            "  Building wheel for marisa-trie (setup.py) ... \u001b[?25l\u001b[?25hdone\n",
            "  Created wheel for marisa-trie: filename=marisa_trie-0.7.5-cp36-cp36m-linux_x86_64.whl size=862449 sha256=b68aa9b728884ec8f2b71fc93bb5f4a794793c7384179548934d63f421690c0d\n",
            "  Stored in directory: /root/.cache/pip/wheels/45/24/79/022624fc914f0e559fe8a1141aaff1f9df810905a13fc75d57\n",
            "Successfully built marisa-trie\n",
            "Installing collected packages: marisa-trie, tinydb, conllu, pythainlp\n",
            "Successfully installed conllu-3.0 marisa-trie-0.7.5 pythainlp-1.7.0 tinydb-4.1.1\n"
          ],
          "name": "stdout"
        }
      ]
    },
    {
      "cell_type": "code",
      "metadata": {
        "id": "mY4_C1dIPRYf",
        "colab_type": "code",
        "colab": {
          "base_uri": "https://localhost:8080/",
          "height": 85
        },
        "outputId": "8a0e93fd-44fd-493d-a9e8-5c9f1c8efa4a"
      },
      "source": [
        "import pythainlp"
      ],
      "execution_count": 29,
      "outputs": [
        {
          "output_type": "stream",
          "text": [
            "[nltk_data] Downloading package wordnet to /root/nltk_data...\n",
            "[nltk_data]   Unzipping corpora/wordnet.zip.\n",
            "[nltk_data] Downloading package omw to /root/nltk_data...\n",
            "[nltk_data]   Unzipping corpora/omw.zip.\n"
          ],
          "name": "stdout"
        }
      ]
    },
    {
      "cell_type": "code",
      "metadata": {
        "id": "wDXxwL5hPZgU",
        "colab_type": "code",
        "colab": {
          "base_uri": "https://localhost:8080/",
          "height": 34
        },
        "outputId": "acedd763-a2d6-4aa1-9848-89ff9c86b541"
      },
      "source": [
        "pythainlp.sentiment(\"เช้านี้อากาศสดใส\")"
      ],
      "execution_count": 33,
      "outputs": [
        {
          "output_type": "execute_result",
          "data": {
            "text/plain": [
              "'pos'"
            ]
          },
          "metadata": {
            "tags": []
          },
          "execution_count": 33
        }
      ]
    },
    {
      "cell_type": "code",
      "metadata": {
        "id": "qMiXLOQzPjSJ",
        "colab_type": "code",
        "colab": {}
      },
      "source": [
        ""
      ],
      "execution_count": 0,
      "outputs": []
    }
  ]
}